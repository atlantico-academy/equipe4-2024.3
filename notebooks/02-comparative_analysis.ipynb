{
 "cells": [
  {
   "cell_type": "code",
   "execution_count": null,
   "id": "9ac77964-6839-483a-a78c-919a8b7ef36e",
   "metadata": {
    "tags": []
   },
   "outputs": [],
   "source": [
    "### Import de bibliotecas para manipulação dos dados\n",
    "import pandas as pd\n",
    "import numpy as np\n",
    "import math\n",
    "\n",
    "from sklearn.impute import SimpleImputer\n",
    "from sklearn.pipeline import Pipeline\n",
    "from sklearn.preprocessing import OneHotEncoder, OrdinalEncoder, MinMaxScaler, StandardScaler, RobustScaler\n",
    "from sklearn.compose import ColumnTransformer\n",
    "from sklearn.linear_model import LinearRegression"
   ]
  },
  {
   "cell_type": "code",
   "execution_count": null,
   "id": "9294e6f8-9a74-44ca-b359-af5e0a92175e",
   "metadata": {
    "tags": []
   },
   "outputs": [],
   "source": [
    "#Caminho e leitura do Dataframe\n",
    "df = pd.read_csv('../data/raw/Orange_Quality_Data.csv')\n",
    "\n",
    "#Análise das 10 primeiras linhas \n",
    "df.head(10)"
   ]
  },
  {
   "cell_type": "code",
   "execution_count": null,
   "id": "3175e006-23c7-49c3-8da2-2682a3500553",
   "metadata": {
    "tags": []
   },
   "outputs": [],
   "source": [
    "binario = df['Blemishes (Y/N)']\n",
    "binario.head(30)"
   ]
  },
  {
   "cell_type": "code",
   "execution_count": null,
   "id": "7c3a9c2c-81f4-416b-9dae-f6ef0fb21997",
   "metadata": {
    "tags": []
   },
   "outputs": [],
   "source": [
    "# Caminho do dicionário dos dados .csv\n",
    "csv_path = '../data/external/dicionario_de_dados_laranjas.csv'\n",
    "\n",
    "# Leitura do CSV\n",
    "df_dicionario_dados = pd.read_csv(csv_path, sep=',')\n",
    "#dicionario = df_dicionario_dados.loc[:, ~df_dicionario_dados.columns.str.contains('^Unnamed')]\n",
    "print(df_dicionario_dados)"
   ]
  },
  {
   "cell_type": "code",
   "execution_count": null,
   "id": "889f6c3e-bdb6-45fa-b1a2-4f8e1e46bac3",
   "metadata": {
    "tags": []
   },
   "outputs": [],
   "source": [
    "print(df_dicionario_dados.columns)"
   ]
  },
  {
   "cell_type": "code",
   "execution_count": null,
   "id": "888746c0-f378-4394-a03d-789803b4d62b",
   "metadata": {
    "tags": []
   },
   "outputs": [],
   "source": [
    "#Organização da busca pelo tipo de variável\n",
    "\n",
    "variavel_alvo = 'Quality'\n",
    "\n",
    "variavel_Binaria = (\n",
    "    df_dicionario_dados\n",
    "    .query(\"Subtipo == 'Binária' and Variável != @variavel_alvo\")\n",
    "    .Variável #Nome da coluna que tem as variáveis\n",
    "    .to_list() #Método que lista\n",
    ")\n",
    "print(f\"Variáveis qualitativo: Binária\")\n",
    "print(variavel_Binaria)\n",
    "print(\" \")\n",
    "\n",
    "variavel_nominal = (\n",
    "    df_dicionario_dados\n",
    "    .query(\"Subtipo == 'Nominal' and Variável != @variavel_alvo\")\n",
    "    .Variável\n",
    "    .to_list()\n",
    ")\n",
    "print(f\"Variáveis qualitativo: nominal\")\n",
    "print(variavel_nominal)\n",
    "print(\" \")\n",
    "\n",
    "variavel_quanti_continua = (\n",
    "    df_dicionario_dados\n",
    "    .query(\"Subtipo == 'Contínua' and Variável != @variavel_alvo\")\n",
    "    .Variável #Nome da coluna que tem as variáveis\n",
    "    .to_list() #Método que lista\n",
    ")\n",
    "print(f\"Variável quantitativo: Contínua\")\n",
    "print(variavel_quanti_continua)\n",
    "print(\" \")\n",
    "variavel_quanti_discreta = (\n",
    "    df_dicionario_dados\n",
    "    .query(\"Subtipo == 'Discreto' and Variável != @variavel_alvo\")\n",
    "    .Variável #Nome da coluna que tem as variáveis\n",
    "    .to_list() #Método que lista\n",
    ")\n",
    "print(f\"Variável quantitativo: Discreto\")\n",
    "print(variavel_quanti_discreta)\n",
    "print(\" \")\n",
    "\n",
    "#X = df.drop(columns=[variavel_alvo])\n",
    "#Y = df[variavel_alvo]"
   ]
  },
  {
   "cell_type": "code",
   "execution_count": null,
   "id": "c6683778-077e-492e-bc62-962bab16d361",
   "metadata": {},
   "outputs": [],
   "source": [
    "processamento_nominal = Pipeline(steps=[\n",
    "    (\"missing\", SimpleImputer(strategy='most_frequent')), # tratamento para dados faltantes\n",
    "    (\"encoding\", OneHotEncoder(sparse_output=False)), # codificação de variáveis\n",
    "])\n",
    "\n",
    "processamento_ordinal = Pipeline(steps=[\n",
    "    (\"missing\", SimpleImputer(strategy='most_frequent')), #Tratamento de dados faltantes com substituição pela MODA\n",
    "    (\"encoding\", OrdinalEncoder()), #Codificação de variáveis\n",
    "     \n",
    "])\n",
    "\n",
    "processamento_continuos = Pipeline(steps=[\n",
    "    (\"missing\", SimpleImputer(strategy='mean')), #Tratamento de dados faltantes com substituição pela MÉDIA\n",
    "    (\"normalization\", StandardScaler()), #Normalização de variáveis\n",
    "     \n",
    "])\n",
    "processamento_discreta = Pipeline(steps=[\n",
    "    (\"missing\", KNNImputer()), #Tratamento de dados faltantes com substituição pela MEDIANA\n",
    "    (\"normalization\", StandardScaler()), #Normalização de variáveis\n",
    "     \n",
    "])\n",
    "processamento_binario = Pipeline(steps=[\n",
    "    (\"missing\", SimpleImputer(strategy='most_frequent')),\n",
    "    (\"encoding\", OneHotEncoder(sparse_output=False))\n",
    "])\n"
   ]
  },
  {
   "cell_type": "code",
   "execution_count": null,
   "id": "3401bd1a-eef4-415e-b045-68d1f52fee1f",
   "metadata": {},
   "outputs": [],
   "source": [
    "pre_processador = ColumnTransformer([\n",
    "    (\"ordinal\", processamento_ordinal, variavel_qualitativo),\n",
    "    (\"continuo\", processamento_continuos, variavel_quanti_continua),\n",
    "    (\"discreta\", processamento_discreta, variavel_quanti_discreta),\n",
    "    (\"binario\", processamento_binario, variavel_Binaria\n",
    "])"
   ]
  }
 ],
 "metadata": {
  "kernelspec": {
   "display_name": "Python 3 (ipykernel)",
   "language": "python",
   "name": "python3"
  },
  "language_info": {
   "codemirror_mode": {
    "name": "ipython",
    "version": 3
   },
   "file_extension": ".py",
   "mimetype": "text/x-python",
   "name": "python",
   "nbconvert_exporter": "python",
   "pygments_lexer": "ipython3",
   "version": "3.10.12"
  }
 },
 "nbformat": 4,
 "nbformat_minor": 5
}
