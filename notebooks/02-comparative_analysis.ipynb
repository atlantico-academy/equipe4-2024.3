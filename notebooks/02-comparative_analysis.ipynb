{
 "cells": [
  {
   "cell_type": "code",
   "execution_count": null,
   "id": "9ac77964-6839-483a-a78c-919a8b7ef36e",
   "metadata": {
    "tags": []
   },
   "outputs": [],
   "source": [
    "### Import de bibliotecas para manipulação dos dados\n",
    "import pandas as pd\n",
    "import numpy as np\n",
    "import math\n",
    "\n",
    "from sklearn.model_selection import cross_val_score\n",
    "from sklearn.model_selection import KFold\n",
    "from sklearn.impute import SimpleImputer\n",
    "from sklearn.pipeline import Pipeline\n",
    "from sklearn.preprocessing import OneHotEncoder, OrdinalEncoder, MinMaxScaler, StandardScaler, RobustScaler\n",
    "from sklearn.compose import ColumnTransformer\n",
    "from sklearn.linear_model import LinearRegression\n",
    "from sklearn.impute import KNNImputer"
   ]
  },
  {
   "cell_type": "code",
   "execution_count": null,
   "id": "9294e6f8-9a74-44ca-b359-af5e0a92175e",
   "metadata": {
    "tags": []
   },
   "outputs": [],
   "source": [
    "#Caminho e leitura do Dataframe\n",
    "df = pd.read_csv('../data/raw/Orange_Quality_Data.csv')\n",
    "\n",
    "#Análise das 10 primeiras linhas \n",
    "#df.head(10)"
   ]
  },
  {
   "cell_type": "code",
   "execution_count": null,
   "id": "7c3a9c2c-81f4-416b-9dae-f6ef0fb21997",
   "metadata": {
    "tags": []
   },
   "outputs": [],
   "source": [
    "# Leitura do CSV\n",
    "df_dicionario_dados = pd.read_csv('../data/external/dicionario_de_dados_laranjas.csv')\n",
    "\n",
    "#Análise das 10 primeiras linhas \n",
    "#df_dicionario_dados.head(10)"
   ]
  },
  {
   "cell_type": "code",
   "execution_count": null,
   "id": "889f6c3e-bdb6-45fa-b1a2-4f8e1e46bac3",
   "metadata": {
    "tags": []
   },
   "outputs": [],
   "source": [
    "#Checagem de nomes de coluna para facilitar elaboração do código \n",
    "#print(df_dicionario_dados.columns)"
   ]
  },
  {
   "cell_type": "code",
   "execution_count": null,
   "id": "888746c0-f378-4394-a03d-789803b4d62b",
   "metadata": {
    "tags": []
   },
   "outputs": [],
   "source": [
    "#Organização da busca pelo tipo de variável\n",
    "\n",
    "variavel_alvo = 'Quality'\n",
    "\n",
    "# Renomeando colunas (opcional)\n",
    "df_dicionario_dados = df_dicionario_dados.rename(columns={'Variável': 'Variavel', 'Subtipo': 'Subtipo'})\n",
    "\n",
    "\n",
    "variavel_nominal = (\n",
    "    df_dicionario_dados\n",
    "    .query(\"Subtipo == 'Nominal' and Variavel != @variavel_alvo\")\n",
    "    .Variavel\n",
    "    .to_list()\n",
    ")\n",
    "print(f\"Variáveis qualitativo: nominal\")\n",
    "print(variavel_nominal)\n",
    "print(\" \")\n",
    "\n",
    "variavel_quanti_continua = (\n",
    "    df_dicionario_dados\n",
    "    .query(\"Subtipo == 'Contínua' and Variavel != @variavel_alvo\")\n",
    "    .Variavel #Nome da coluna que tem as variáveis\n",
    "    .to_list() #Método que lista\n",
    ")\n",
    "print(f\"Variável quantitativo: Contínua\")\n",
    "print(variavel_quanti_continua)\n",
    "print(\" \")\n",
    "variavel_quanti_discreta = (\n",
    "    df_dicionario_dados\n",
    "    .query(\"Subtipo == 'Discreto' and Variavel != @variavel_alvo\")\n",
    "    .Variavel #Nome da coluna que tem as variáveis\n",
    "    .to_list() #Método que lista\n",
    ")\n",
    "print(f\"Variável quantitativo: Discreto\")\n",
    "print(variavel_quanti_discreta)\n",
    "print(\" \")\n",
    "\n",
    "#x = df.drop(columns=[variavel_alvo])\n",
    "#y = df[variavel_alvo]"
   ]
  },
  {
   "cell_type": "markdown",
   "id": "e2a1cc44-1d28-4d79-87be-2197d1e8acbc",
   "metadata": {},
   "source": [
    "## Pré-processamento "
   ]
  },
  {
   "cell_type": "code",
   "execution_count": null,
   "id": "bf13802d-cb18-4750-9154-d420f90bd503",
   "metadata": {
    "tags": []
   },
   "outputs": [],
   "source": [
    "processamento_nominal = Pipeline(steps=[\n",
    "    (\"missing\", SimpleImputer(strategy='most_frequent')), # tratamento para dados faltantes\n",
    "    (\"encoding\", OneHotEncoder(sparse_output=False)), # codificação de variáveis\n",
    "])\n",
    "\n",
    "processamento_continuos = Pipeline(steps=[\n",
    "    (\"missing\", SimpleImputer(strategy='mean')), #Tratamento de dados faltantes com substituição pela MÉDIA\n",
    "    (\"normalization\", StandardScaler()), #Normalização de variáveis\n",
    "     \n",
    "])\n",
    "processamento_discreto = Pipeline(steps=[\n",
    "    (\"missing\", KNNImputer()), #Tratamento de dados faltantes com substituição pela MEDIANA\n",
    "    (\"normalization\", StandardScaler()), #Normalização de variáveis\n",
    "     \n",
    "])\n"
   ]
  },
  {
   "cell_type": "markdown",
   "id": "943d9fa0-babe-4b91-9007-6a5f4636c787",
   "metadata": {},
   "source": [
    "## Combinar transformações e aplicar"
   ]
  },
  {
   "cell_type": "code",
   "execution_count": null,
   "id": "3401bd1a-eef4-415e-b045-68d1f52fee1f",
   "metadata": {
    "tags": []
   },
   "outputs": [],
   "source": [
    "pre_processador = ColumnTransformer([\n",
    "    (\"Contínua\", processamento_continuos, variavel_quanti_continua),\n",
    "    (\"Discreto\", processamento_discreto, variavel_quanti_discreta),\n",
    "    (\"Nominal\", processamento_nominal, variavel_nominal)\n",
    "])\n",
    "\n",
    "df_preprocessed = pre_processador.fit_transform(df)\n",
    "\n",
    "df_preprocessed"
   ]
  },
  {
   "cell_type": "markdown",
   "id": "d7724d04-fe66-4415-9c03-1b7eca897598",
   "metadata": {},
   "source": [
    "## K-fold (Validação Cruzada)"
   ]
  },
  {
   "cell_type": "code",
   "execution_count": null,
   "id": "c0b9f1fe-63c8-479f-ba17-b6fb8d87df66",
   "metadata": {
    "tags": []
   },
   "outputs": [],
   "source": [
    "#k-fold\n",
    "# Create a Pipeline\n",
    "model = Pipeline([\n",
    "    ('encoder', OneHotEncoder(handle_unknown='ignore')),\n",
    "    ('scaler', StandardScaler(with_mean=False)),  # Optional scaler for numerical features\n",
    "    ('regressor', LinearRegression())\n",
    "])\n",
    "\n",
    "# Perform cross-validation\n",
    "scores = cross_val_score(model, df, y, cv=10, scoring='neg_mean_squared_error')\n",
    "\n",
    "print(scores)\n",
    "\n",
    "mean_score = np.mean(scores)\n",
    "std_score = np.std(scores)\n",
    "\n",
    "print(\"Média:\", mean_score)\n",
    "print(\"Desvio Padrão:\", std_score)"
   ]
  },
  {
   "cell_type": "markdown",
   "id": "a19cd788-6c9b-4d5d-82fb-99bf66db6a42",
   "metadata": {},
   "source": [
    "#### Como é possivel observar, foram usados 10 folds para esse modelo. Os resultados da validação cruzada indicaram um valor de -0.36 de MSE, sugerindo que o modelo é capaz de fazer previsões com uma precisão razoável. O Desvio padrão 0.14 do MSE demonstra a robustez do modelo em diferentes subconjuntos dos dados."
   ]
  },
  {
   "cell_type": "code",
   "execution_count": null,
   "id": "697a0e6a-959f-41ff-8788-cbdfa93ff5d3",
   "metadata": {},
   "outputs": [],
   "source": []
  },
  {
   "cell_type": "code",
   "execution_count": null,
   "id": "aefca662-ad65-4f49-a026-b7aa1f7dd9d4",
   "metadata": {
    "tags": []
   },
   "outputs": [],
   "source": []
  },
  {
   "cell_type": "code",
   "execution_count": null,
   "id": "ff04e2be-e846-4c5f-b87c-9548f2ae900a",
   "metadata": {},
   "outputs": [],
   "source": []
  }
 ],
 "metadata": {
  "kernelspec": {
   "display_name": "Python 3 (ipykernel)",
   "language": "python",
   "name": "python3"
  },
  "language_info": {
   "codemirror_mode": {
    "name": "ipython",
    "version": 3
   },
   "file_extension": ".py",
   "mimetype": "text/x-python",
   "name": "python",
   "nbconvert_exporter": "python",
   "pygments_lexer": "ipython3",
   "version": "3.10.12"
  }
 },
 "nbformat": 4,
 "nbformat_minor": 5
}
