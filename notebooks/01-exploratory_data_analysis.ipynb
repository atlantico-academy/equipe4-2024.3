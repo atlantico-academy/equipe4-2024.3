{
 "cells": [
  {
   "cell_type": "markdown",
   "metadata": {},
   "source": [
    "# Análise exploratória de dados"
   ]
  },
  {
   "cell_type": "code",
   "execution_count": null,
   "metadata": {},
   "outputs": [
    {
     "ename": "",
     "evalue": "",
     "output_type": "error",
     "traceback": [
      "\u001b[1;31mRunning cells with 'Python 3.11.1' requires the ipykernel package.\n",
      "\u001b[1;31mRun the following command to install 'ipykernel' into the Python environment. \n",
      "\u001b[1;31mCommand: 'c:/Users/Isabel/AppData/Local/Programs/Python/Python311/python.exe -m pip install ipykernel -U --user --force-reinstall'"
     ]
    }
   ],
   "source": [
    "### Import de bibliotecas para manipulação dos dados \n",
    "import pandas as pd\n",
    "import numpy as np\n",
    "import math\n",
    "\n",
    "### para visualizacao \n",
    "import seaborn as sns\n",
    "import matplotlib.pyplot as plt\n",
    "\n",
    "### para obter estatisticas de teste\n",
    "import scipy.stats as stats\n",
    "from scipy.stats import norm\n",
    "from sklearn.preprocessing import LabelEncoder"
   ]
  },
  {
   "cell_type": "markdown",
   "metadata": {},
   "source": [
    "## 1. Descrição dos dados"
   ]
  },
  {
   "cell_type": "code",
   "execution_count": null,
   "metadata": {
    "tags": []
   },
   "outputs": [],
   "source": [
    "df = pd.read_csv('../data/raw/Orange_Quality_Data.csv')"
   ]
  },
  {
   "cell_type": "markdown",
   "metadata": {
    "tags": []
   },
   "source": [
    "##### O dataset \"Orange Quality Data.csv\" contém 241 linhas e 11 colunas, e ele foi retirado dos datasets da kaggle. \n",
    "##### As variáveis incluem: \n",
    "**Size (cm)** \n",
    "**Weight (g)** \n",
    "**Brix (Sweetness)**\n",
    "**pH (Acidity)**\n",
    "**Softness (1-5)**\n",
    "**HarvestTime (days)** \n",
    "**Ripeness (1-5)**\n",
    "**Color**\n",
    "**Variety**\n",
    "**Blemishes (Y/N)**\n",
    "**Quality (1-5).**"
   ]
  },
  {
   "cell_type": "markdown",
   "metadata": {},
   "source": [
    "* **Size (cm):** Diâmetro da laranja em centímetros, representando o tamanho da fruta.\n",
    "* **Weight (g):** Peso da laranja em gramas, indicando a massa da fruta.\n",
    "* **Brix (Sweetness):** Nível de açúcar da laranja, medido pela escala Brix, que indica o grau de doçura.\n",
    "* **pH (Acidity):** Nível de acidez da laranja, medido pelo pH, que indica o sabor azedo da fruta.\n",
    "* **Softness (1-5):** Nível de maciez da laranja em uma escala de 1 a 5, onde 1 indica uma fruta muito dura e 5 indica uma fruta muito macia.\n",
    "* **HarvestTime (days):** Número de dias desde o plantio até a colheita, indicando o tempo de cultivo.\n",
    "* **Ripeness (1-5):** Nível de maturação da laranja em uma escala de 1 a 5, onde 1 indica uma fruta verde e 5 indica uma fruta madura.\n",
    "* **Color:** Cor da casca da laranja, indicando a variedade e o estágio de maturação.\n",
    "* **Variety:** Variedade da laranja, como Valencia, Navel, Cara Cara, etc.\n",
    "* **Blemishes (Y/N):** Indica se a laranja possui manchas ou defeitos visíveis (Sim ou Não).\n",
    "* **Quality (1-5):** Qualidade geral da laranja em uma escala de 1 a 5, avaliando diversos atributos como tamanho, aparência, sabor e textura."
   ]
  },
  {
   "cell_type": "code",
   "execution_count": null,
   "metadata": {
    "tags": []
   },
   "outputs": [
    {
     "name": "stdout",
     "output_type": "stream",
     "text": [
      "================================================== Separador ==================================================\n"
     ]
    },
    {
     "data": {
      "text/html": [
       "<div>\n",
       "<style scoped>\n",
       "    .dataframe tbody tr th:only-of-type {\n",
       "        vertical-align: middle;\n",
       "    }\n",
       "\n",
       "    .dataframe tbody tr th {\n",
       "        vertical-align: top;\n",
       "    }\n",
       "\n",
       "    .dataframe thead th {\n",
       "        text-align: right;\n",
       "    }\n",
       "</style>\n",
       "<table border=\"1\" class=\"dataframe\">\n",
       "  <thead>\n",
       "    <tr style=\"text-align: right;\">\n",
       "      <th></th>\n",
       "      <th>Size (cm)</th>\n",
       "      <th>Weight (g)</th>\n",
       "      <th>Brix (Sweetness)</th>\n",
       "      <th>pH (Acidity)</th>\n",
       "      <th>Softness (1-5)</th>\n",
       "      <th>HarvestTime (days)</th>\n",
       "      <th>Ripeness (1-5)</th>\n",
       "      <th>Color</th>\n",
       "      <th>Variety</th>\n",
       "      <th>Blemishes (Y/N)</th>\n",
       "      <th>Quality (1-5)</th>\n",
       "    </tr>\n",
       "  </thead>\n",
       "  <tbody>\n",
       "    <tr>\n",
       "      <th>0</th>\n",
       "      <td>7.5</td>\n",
       "      <td>180</td>\n",
       "      <td>12.0</td>\n",
       "      <td>3.2</td>\n",
       "      <td>2.0</td>\n",
       "      <td>10</td>\n",
       "      <td>4.0</td>\n",
       "      <td>Orange</td>\n",
       "      <td>Valencia</td>\n",
       "      <td>N</td>\n",
       "      <td>4.0</td>\n",
       "    </tr>\n",
       "    <tr>\n",
       "      <th>1</th>\n",
       "      <td>8.2</td>\n",
       "      <td>220</td>\n",
       "      <td>10.5</td>\n",
       "      <td>3.4</td>\n",
       "      <td>3.0</td>\n",
       "      <td>14</td>\n",
       "      <td>4.5</td>\n",
       "      <td>Deep Orange</td>\n",
       "      <td>Navel</td>\n",
       "      <td>N</td>\n",
       "      <td>4.5</td>\n",
       "    </tr>\n",
       "    <tr>\n",
       "      <th>2</th>\n",
       "      <td>6.8</td>\n",
       "      <td>150</td>\n",
       "      <td>14.0</td>\n",
       "      <td>3.0</td>\n",
       "      <td>1.0</td>\n",
       "      <td>7</td>\n",
       "      <td>5.0</td>\n",
       "      <td>Light Orange</td>\n",
       "      <td>Cara Cara</td>\n",
       "      <td>N</td>\n",
       "      <td>5.0</td>\n",
       "    </tr>\n",
       "    <tr>\n",
       "      <th>3</th>\n",
       "      <td>9.0</td>\n",
       "      <td>250</td>\n",
       "      <td>8.5</td>\n",
       "      <td>3.8</td>\n",
       "      <td>4.0</td>\n",
       "      <td>21</td>\n",
       "      <td>3.5</td>\n",
       "      <td>Orange-Red</td>\n",
       "      <td>Blood Orange</td>\n",
       "      <td>N</td>\n",
       "      <td>3.5</td>\n",
       "    </tr>\n",
       "    <tr>\n",
       "      <th>4</th>\n",
       "      <td>8.5</td>\n",
       "      <td>210</td>\n",
       "      <td>11.5</td>\n",
       "      <td>3.3</td>\n",
       "      <td>2.5</td>\n",
       "      <td>12</td>\n",
       "      <td>5.0</td>\n",
       "      <td>Orange</td>\n",
       "      <td>Hamlin</td>\n",
       "      <td>Y (Minor)</td>\n",
       "      <td>4.5</td>\n",
       "    </tr>\n",
       "  </tbody>\n",
       "</table>\n",
       "</div>"
      ],
      "text/plain": [
       "   Size (cm)  Weight (g)  Brix (Sweetness)  pH (Acidity)  Softness (1-5)  \\\n",
       "0        7.5         180              12.0           3.2             2.0   \n",
       "1        8.2         220              10.5           3.4             3.0   \n",
       "2        6.8         150              14.0           3.0             1.0   \n",
       "3        9.0         250               8.5           3.8             4.0   \n",
       "4        8.5         210              11.5           3.3             2.5   \n",
       "\n",
       "   HarvestTime (days)  Ripeness (1-5)         Color       Variety  \\\n",
       "0                  10             4.0        Orange      Valencia   \n",
       "1                  14             4.5   Deep Orange         Navel   \n",
       "2                   7             5.0  Light Orange     Cara Cara   \n",
       "3                  21             3.5    Orange-Red  Blood Orange   \n",
       "4                  12             5.0        Orange        Hamlin   \n",
       "\n",
       "  Blemishes (Y/N)  Quality (1-5)  \n",
       "0               N            4.0  \n",
       "1               N            4.5  \n",
       "2               N            5.0  \n",
       "3               N            3.5  \n",
       "4       Y (Minor)            4.5  "
      ]
     },
     "execution_count": 21,
     "metadata": {},
     "output_type": "execute_result"
    }
   ],
   "source": [
    "def  separador():\n",
    "    print(\"=\" * 50 + \" Separador \" + \"=\" * 50)\n",
    "separador()\n",
    "\n",
    "#Análise das 10 primeiras linhas \n",
    "df.head(10)"
   ]
  },
  {
   "cell_type": "code",
   "execution_count": null,
   "metadata": {
    "tags": []
   },
   "outputs": [
    {
     "name": "stdout",
     "output_type": "stream",
     "text": [
      "================================================== Separador ==================================================\n",
      "<class 'pandas.core.frame.DataFrame'>\n",
      "RangeIndex: 241 entries, 0 to 240\n",
      "Data columns (total 11 columns):\n",
      " #   Column              Non-Null Count  Dtype  \n",
      "---  ------              --------------  -----  \n",
      " 0   Size (cm)           241 non-null    float64\n",
      " 1   Weight (g)          241 non-null    int64  \n",
      " 2   Brix (Sweetness)    241 non-null    float64\n",
      " 3   pH (Acidity)        241 non-null    float64\n",
      " 4   Softness (1-5)      241 non-null    float64\n",
      " 5   HarvestTime (days)  241 non-null    int64  \n",
      " 6   Ripeness (1-5)      241 non-null    float64\n",
      " 7   Color               241 non-null    object \n",
      " 8   Variety             241 non-null    object \n",
      " 9   Blemishes (Y/N)     241 non-null    object \n",
      " 10  Quality (1-5)       241 non-null    float64\n",
      "dtypes: float64(6), int64(2), object(3)\n",
      "memory usage: 20.8+ KB\n"
     ]
    }
   ],
   "source": [
    "separador()\n",
    "\n",
    "# Exibindo as informações do DataFrame\n",
    "df.info()"
   ]
  },
  {
   "cell_type": "code",
   "execution_count": null,
   "metadata": {
    "tags": []
   },
   "outputs": [
    {
     "name": "stdout",
     "output_type": "stream",
     "text": [
      "================================================== Separador ==================================================\n"
     ]
    },
    {
     "data": {
      "text/html": [
       "<div>\n",
       "<style scoped>\n",
       "    .dataframe tbody tr th:only-of-type {\n",
       "        vertical-align: middle;\n",
       "    }\n",
       "\n",
       "    .dataframe tbody tr th {\n",
       "        vertical-align: top;\n",
       "    }\n",
       "\n",
       "    .dataframe thead th {\n",
       "        text-align: right;\n",
       "    }\n",
       "</style>\n",
       "<table border=\"1\" class=\"dataframe\">\n",
       "  <thead>\n",
       "    <tr style=\"text-align: right;\">\n",
       "      <th></th>\n",
       "      <th>Size (cm)</th>\n",
       "      <th>Weight (g)</th>\n",
       "      <th>Brix (Sweetness)</th>\n",
       "      <th>pH (Acidity)</th>\n",
       "      <th>Softness (1-5)</th>\n",
       "      <th>HarvestTime (days)</th>\n",
       "      <th>Ripeness (1-5)</th>\n",
       "      <th>Quality (1-5)</th>\n",
       "    </tr>\n",
       "  </thead>\n",
       "  <tbody>\n",
       "    <tr>\n",
       "      <th>count</th>\n",
       "      <td>241.000000</td>\n",
       "      <td>241.000000</td>\n",
       "      <td>241.000000</td>\n",
       "      <td>241.000000</td>\n",
       "      <td>241.000000</td>\n",
       "      <td>241.000000</td>\n",
       "      <td>241.000000</td>\n",
       "      <td>241.000000</td>\n",
       "    </tr>\n",
       "    <tr>\n",
       "      <th>mean</th>\n",
       "      <td>7.844813</td>\n",
       "      <td>205.128631</td>\n",
       "      <td>10.907884</td>\n",
       "      <td>3.473900</td>\n",
       "      <td>3.072614</td>\n",
       "      <td>15.344398</td>\n",
       "      <td>3.599585</td>\n",
       "      <td>3.817427</td>\n",
       "    </tr>\n",
       "    <tr>\n",
       "      <th>std</th>\n",
       "      <td>1.086002</td>\n",
       "      <td>56.461012</td>\n",
       "      <td>2.760446</td>\n",
       "      <td>0.421007</td>\n",
       "      <td>1.323630</td>\n",
       "      <td>5.323852</td>\n",
       "      <td>1.205214</td>\n",
       "      <td>1.014410</td>\n",
       "    </tr>\n",
       "    <tr>\n",
       "      <th>min</th>\n",
       "      <td>6.000000</td>\n",
       "      <td>100.000000</td>\n",
       "      <td>5.500000</td>\n",
       "      <td>2.800000</td>\n",
       "      <td>1.000000</td>\n",
       "      <td>4.000000</td>\n",
       "      <td>1.000000</td>\n",
       "      <td>1.000000</td>\n",
       "    </tr>\n",
       "    <tr>\n",
       "      <th>25%</th>\n",
       "      <td>6.900000</td>\n",
       "      <td>155.000000</td>\n",
       "      <td>8.500000</td>\n",
       "      <td>3.200000</td>\n",
       "      <td>2.000000</td>\n",
       "      <td>11.000000</td>\n",
       "      <td>3.000000</td>\n",
       "      <td>3.000000</td>\n",
       "    </tr>\n",
       "    <tr>\n",
       "      <th>50%</th>\n",
       "      <td>7.800000</td>\n",
       "      <td>205.000000</td>\n",
       "      <td>11.000000</td>\n",
       "      <td>3.400000</td>\n",
       "      <td>3.000000</td>\n",
       "      <td>15.000000</td>\n",
       "      <td>4.000000</td>\n",
       "      <td>4.000000</td>\n",
       "    </tr>\n",
       "    <tr>\n",
       "      <th>75%</th>\n",
       "      <td>8.700000</td>\n",
       "      <td>252.000000</td>\n",
       "      <td>13.400000</td>\n",
       "      <td>3.800000</td>\n",
       "      <td>4.000000</td>\n",
       "      <td>20.000000</td>\n",
       "      <td>4.500000</td>\n",
       "      <td>4.500000</td>\n",
       "    </tr>\n",
       "    <tr>\n",
       "      <th>max</th>\n",
       "      <td>10.000000</td>\n",
       "      <td>300.000000</td>\n",
       "      <td>16.000000</td>\n",
       "      <td>4.400000</td>\n",
       "      <td>5.000000</td>\n",
       "      <td>25.000000</td>\n",
       "      <td>5.000000</td>\n",
       "      <td>5.000000</td>\n",
       "    </tr>\n",
       "  </tbody>\n",
       "</table>\n",
       "</div>"
      ],
      "text/plain": [
       "        Size (cm)  Weight (g)  Brix (Sweetness)  pH (Acidity)  Softness (1-5)  \\\n",
       "count  241.000000  241.000000        241.000000    241.000000      241.000000   \n",
       "mean     7.844813  205.128631         10.907884      3.473900        3.072614   \n",
       "std      1.086002   56.461012          2.760446      0.421007        1.323630   \n",
       "min      6.000000  100.000000          5.500000      2.800000        1.000000   \n",
       "25%      6.900000  155.000000          8.500000      3.200000        2.000000   \n",
       "50%      7.800000  205.000000         11.000000      3.400000        3.000000   \n",
       "75%      8.700000  252.000000         13.400000      3.800000        4.000000   \n",
       "max     10.000000  300.000000         16.000000      4.400000        5.000000   \n",
       "\n",
       "       HarvestTime (days)  Ripeness (1-5)  Quality (1-5)  \n",
       "count          241.000000      241.000000     241.000000  \n",
       "mean            15.344398        3.599585       3.817427  \n",
       "std              5.323852        1.205214       1.014410  \n",
       "min              4.000000        1.000000       1.000000  \n",
       "25%             11.000000        3.000000       3.000000  \n",
       "50%             15.000000        4.000000       4.000000  \n",
       "75%             20.000000        4.500000       4.500000  \n",
       "max             25.000000        5.000000       5.000000  "
      ]
     },
     "execution_count": 17,
     "metadata": {},
     "output_type": "execute_result"
    }
   ],
   "source": [
    "separador()\n",
    "#Resumo estatístico\n",
    "df.describe()"
   ]
  },
  {
   "cell_type": "code",
   "execution_count": 22,
   "metadata": {
    "tags": []
   },
   "outputs": [
    {
     "name": "stdout",
     "output_type": "stream",
     "text": [
      "================================================== Separador ==================================================\n",
      "{'Size (cm)': {'descricao': 'Diâmetro da laranja em centímetros', 'tipo': 'quantitativa', 'subtipo': 'contínua'}, 'Weight (g)': {'descricao': 'Peso da laranja em gramas', 'tipo': 'quantitativa', 'subtipo': 'contínua'}, 'Brix (Sweetness)': {'descricao': 'Nível de açúcar da laranja (Brix)', 'tipo': 'quantitativa', 'subtipo': 'contínua'}, 'pH (Acidity)': {'descricao': 'Nível de acidez da laranja (pH)', 'tipo': 'quantitativa', 'subtipo': 'contínua'}, 'Softness (1-5)': {'descricao': 'Nível de maciez da laranja em uma escala de 1 a 5', 'tipo': 'quantitativa', 'subtipo': 'discreta'}, 'HarvestTime (days)': {'descricao': 'Número de dias desde o plantio até a colheita', 'tipo': 'quantitativa', 'subtipo': 'discreta'}, 'Ripeness (1-5)': {'descricao': 'Nível de maturação da laranja em uma escala de 1 a 5', 'tipo': 'quantitativa', 'subtipo': 'discreta'}, 'Color': {'descricao': 'Cor da casca da laranja', 'tipo': 'qualitativa', 'subtipo': 'nominal'}, 'Variety': {'descricao': 'Variedade da laranja', 'tipo': 'qualitativa', 'subtipo': 'nominal'}, 'Blemishes (Y/N)': {'descricao': 'Presença de manchas na laranja (Sim/Não)', 'tipo': 'qualitativa', 'subtipo': 'binária'}, 'Quality (1-5)': {'descricao': 'Qualidade geral da laranja em uma escala de 1 a 5', 'tipo': 'quantitativa', 'subtipo': 'discreta'}}\n"
     ]
    }
   ],
   "source": [
    "dicionario_dados = {\n",
    "    \"Size (cm)\": {\"descricao\": \"Diâmetro da laranja em centímetros\", \"tipo\": \"quantitativa\", \"subtipo\": \"contínua\"},\n",
    "    \"Weight (g)\": {\"descricao\": \"Peso da laranja em gramas\", \"tipo\": \"quantitativa\", \"subtipo\": \"contínua\"},\n",
    "    \"Brix (Sweetness)\": {\"descricao\": \"Nível de açúcar da laranja (Brix)\", \"tipo\": \"quantitativa\", \"subtipo\": \"contínua\"},\n",
    "    \"pH (Acidity)\": {\"descricao\": \"Nível de acidez da laranja (pH)\", \"tipo\": \"quantitativa\", \"subtipo\": \"contínua\"},\n",
    "    \"Softness (1-5)\": {\"descricao\": \"Nível de maciez da laranja em uma escala de 1 a 5\", \"tipo\": \"quantitativa\", \"subtipo\": \"discreta\"},\n",
    "    \"HarvestTime (days)\": {\"descricao\": \"Número de dias desde o plantio até a colheita\", \"tipo\": \"quantitativa\", \"subtipo\": \"discreta\"},\n",
    "    \"Ripeness (1-5)\": {\"descricao\": \"Nível de maturação da laranja em uma escala de 1 a 5\", \"tipo\": \"quantitativa\", \"subtipo\": \"discreta\"},\n",
    "    \"Color\": {\"descricao\": \"Cor da casca da laranja\", \"tipo\": \"qualitativa\", \"subtipo\": \"nominal\"},\n",
    "    \"Variety\": {\"descricao\": \"Variedade da laranja\", \"tipo\": \"qualitativa\", \"subtipo\": \"nominal\"},\n",
    "    \"Blemishes (Y/N)\": {\"descricao\": \"Presença de manchas na laranja (Sim/Não)\", \"tipo\": \"qualitativa\", \"subtipo\": \"binária\"},\n",
    "    \"Quality (1-5)\": {\"descricao\": \"Qualidade geral da laranja em uma escala de 1 a 5\", \"tipo\": \"quantitativa\", \"subtipo\": \"discreta\"}\n",
    "}\n",
    "\n",
    "separador()\n",
    "print(dicionario_dados)"
   ]
  },
  {
   "cell_type": "markdown",
   "metadata": {},
   "source": [
    "## 2. Perguntas de partida e hipóteses"
   ]
  },
  {
   "cell_type": "markdown",
   "metadata": {},
   "source": [
    "# a: Como a maciez das laranjas varia com o tempo de colheita e o estágio de maturação? Laranjas mais maduras são sempre mais macias?"
   ]
  },
  {
   "cell_type": "code",
   "execution_count": null,
   "metadata": {},
   "outputs": [],
   "source": [
    "#Coloque seu código aqui "
   ]
  },
  {
   "cell_type": "markdown",
   "metadata": {},
   "source": [
    "# b: A cor das laranjas está relacionada à sua qualidade? Quais tonalidades são indicativas de maior qualidade?"
   ]
  },
  {
   "cell_type": "code",
   "execution_count": null,
   "metadata": {},
   "outputs": [],
   "source": [
    "# Análise Exploratória da Relação entre Cor e Qualidade\n",
    "# Calculando a média da qualidade para cada tonalidade de cor\n",
    "color_quality = df.groupby('Color')['Quality (1-5)'].mean().sort_values()\n",
    "\n",
    "# Exibindo a tabela de médias de qualidade por cor para melhor visualização \n",
    "print(\"Qualidade média por tonalidade de cor:\")\n",
    "print(color_quality)\n",
    "\n",
    "# Gráfico de Barra Qualidade vs Tonalidade de Cor\n",
    "plt.figure(figsize=(12, 8))\n",
    "sns.barplot(x=color_quality.index, y=color_quality.values, palette=\"plasma\")\n",
    "\n",
    "# Configurações do Gráfico\n",
    "plt.title('Qualidade Média das Laranjas por Tonalidade de Cor')\n",
    "plt.xlabel('Tonalidade de Cor')\n",
    "plt.ylabel('Qualidade Média')\n",
    "plt.xticks(rotation=0)\n",
    "plt.grid(axis='y', linestyle='--', alpha=0.6)\n",
    "\n",
    "# Adicionando os valores em cima das barras\n",
    "for index, value in enumerate(color_quality.values):\n",
    "    plt.text(index, value + 0.05, f\"{value:.2f}\", ha='center', va='bottom', fontsize=10)\n",
    "\n",
    "\n",
    "# Exibir o gráfico\n",
    "plt.show()\n",
    "\n",
    "#Espaçamento para melhor visualização \n",
    "print(' ')\n",
    "print(' ')\n",
    "print(' ')\n",
    "print(' ')\n",
    "\n",
    "# Transformando a coluna 'color' em valores numéricos para utilizar a correlação\n",
    "label_encoder = LabelEncoder()\n",
    "df['color_encoded'] = label_encoder.fit_transform(df['Color'])\n",
    "\n",
    "# Cálculo da correlação entre cor e qualidade\n",
    "correlation = df[['color_encoded', 'Quality (1-5)']].corr().iloc[0, 1]\n",
    "print(f\"Correlação entre cor e qualidade: {correlation:.2f}\")\n",
    "\n",
    "# Gráfico de dispersão\n",
    "plt.figure(figsize=(10, 6))\n",
    "sns.scatterplot(x='color_encoded', y='Quality (1-5)', data=df, palette=\"plasma\", hue='Color', legend=False)\n",
    "\n",
    "# Configurações do gráfico de dispersão\n",
    "plt.title('Correlação entre Cor das Laranjas e Qualidade')\n",
    "plt.xlabel('Cor (Codificada)')\n",
    "plt.ylabel('Qualidade')\n",
    "plt.grid(True, linestyle='--', alpha=0.6)\n",
    "\n",
    "# Exibir o gráfico\n",
    "plt.show()\n",
    "\n",
    "# Exibir cores originais, codificadas e qualidade em tabela para melhor entendimento\n",
    "color_mapping = pd.DataFrame({\n",
    "    'Original Color': label_encoder.classes_,  # Cores originais\n",
    "    'Encoded Color': range(len(label_encoder.classes_)),  # Cores codificadas\n",
    "    'Quality': [df[df['Color'] == color]['Quality (1-5)'].mean() for color in label_encoder.classes_]  # Média da qualidade por cor\n",
    "})\n",
    "\n",
    "print(\"\\nTabela de Cores e Qualidade:\")\n",
    "print(color_mapping)"
   ]
  },
  {
   "cell_type": "markdown",
   "metadata": {},
   "source": [
    "# A correlação calculada é de -0.12.\n",
    "# Interpretação dos Resultados\n",
    "# Qualidade Média: A análise mostra que a tonalidade Deep Orange apresenta a maior qualidade média (4.31), seguida por Yellow-Orange (4.22). Isso indica que as laranjas dessas cores tendem a ser avaliadas como de maior qualidade. Tonalidades Menores: As tonalidades Light Orange, Orange, e Orange-Red têm médias de qualidade inferiores (3.28 a 3.75), sugerindo que essas cores estão associadas a uma qualidade menor em comparação às tonalidades mais escuras.\n",
    "# Correlação Negativa: A correlação de -0.12 indica uma relação fraca e negativa entre a cor das laranjas e sua qualidade. Isso sugere que, embora existam variações na qualidade média entre as diferentes tonalidades, não há uma relação forte que indique que a cor mais intensa sempre resulta em maior qualidade.\n"
   ]
  },
  {
   "cell_type": "markdown",
   "metadata": {},
   "source": [
    "# c: Qual é a influência das manchas na avaliação da qualidade das laranjas?"
   ]
  },
  {
   "cell_type": "code",
   "execution_count": null,
   "metadata": {},
   "outputs": [],
   "source": [
    "#Coloque seu código aqui "
   ]
  },
  {
   "cell_type": "markdown",
   "metadata": {},
   "source": [
    "# d: Como o tempo de colheita afeta as características das laranjas? Existem períodos ideais para a colheita que maximizam a qualidade?"
   ]
  },
  {
   "cell_type": "code",
   "execution_count": null,
   "metadata": {},
   "outputs": [],
   "source": [
    "#Coloque seu código aqui "
   ]
  },
  {
   "cell_type": "markdown",
   "metadata": {},
   "source": [
    "# e: A presença de manchas afeta o pH ou a doçura das laranjas? Isso poderia indicar alguma relação entre defeitos visuais e características internas da fruta."
   ]
  },
  {
   "cell_type": "code",
   "execution_count": null,
   "metadata": {},
   "outputs": [],
   "source": [
    "#Coloque seu código aqui "
   ]
  },
  {
   "cell_type": "markdown",
   "metadata": {},
   "source": [
    "## 3. Insights"
   ]
  },
  {
   "cell_type": "code",
   "execution_count": null,
   "metadata": {},
   "outputs": [],
   "source": []
  }
 ],
 "metadata": {
  "kernelspec": {
   "display_name": "Python 3",
   "language": "python",
   "name": "python3"
  },
  "language_info": {
   "codemirror_mode": {
    "name": "ipython",
    "version": 3
   },
   "file_extension": ".py",
   "mimetype": "text/x-python",
   "name": "python",
   "nbconvert_exporter": "python",
   "pygments_lexer": "ipython3",
   "version": "3.11.1"
  }
 },
 "nbformat": 4,
 "nbformat_minor": 4
}
