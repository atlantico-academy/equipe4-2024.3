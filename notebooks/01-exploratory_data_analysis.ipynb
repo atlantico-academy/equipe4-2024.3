{
 "cells": [
  {
   "cell_type": "markdown",
   "metadata": {},
   "source": [
    "# Análise exploratória de dados"
   ]
  },
  {
   "cell_type": "code",
<<<<<<< HEAD
   "execution_count": 2,
=======
   "execution_count": 1,
>>>>>>> 990efdfcaa04a8be7628818a3b3ad2d82aba31b1
   "metadata": {
    "tags": []
   },
   "outputs": [
    {
     "ename": "ModuleNotFoundError",
     "evalue": "No module named 'pandas'",
     "output_type": "error",
     "traceback": [
      "\u001b[1;31m---------------------------------------------------------------------------\u001b[0m",
      "\u001b[1;31mModuleNotFoundError\u001b[0m                       Traceback (most recent call last)",
      "Cell \u001b[1;32mIn[1], line 2\u001b[0m\n\u001b[0;32m      1\u001b[0m \u001b[38;5;66;03m### Import de bibliotecas para manipulação dos dados \u001b[39;00m\n\u001b[1;32m----> 2\u001b[0m \u001b[38;5;28;01mimport\u001b[39;00m \u001b[38;5;21;01mpandas\u001b[39;00m \u001b[38;5;28;01mas\u001b[39;00m \u001b[38;5;21;01mpd\u001b[39;00m\n\u001b[0;32m      3\u001b[0m \u001b[38;5;28;01mimport\u001b[39;00m \u001b[38;5;21;01mnumpy\u001b[39;00m \u001b[38;5;28;01mas\u001b[39;00m \u001b[38;5;21;01mnp\u001b[39;00m\n\u001b[0;32m      4\u001b[0m \u001b[38;5;28;01mimport\u001b[39;00m \u001b[38;5;21;01mmath\u001b[39;00m\n",
      "\u001b[1;31mModuleNotFoundError\u001b[0m: No module named 'pandas'"
     ]
    }
   ],
   "source": [
    "\n",
    "\n",
    "### Import de bibliotecas para manipulação dos dados \n",
    "import pandas as pd\n",
    "import numpy as np\n",
    "import math\n",
    "import matplotlib.pyplot as plt\n",
    "\n",
    "\n",
    "### para visualizacao \n",
    "import seaborn as sns\n",
<<<<<<< HEAD
=======
    "import matplotlib.pyplot as plt\n",
>>>>>>> 990efdfcaa04a8be7628818a3b3ad2d82aba31b1
    "\n",
    "### para obter estatisticas de teste\n",
    "import scipy.stats as stats\n",
    "from scipy.stats import norm\n",
    "from sklearn.preprocessing import LabelEncoder\n",
    "from sklearn.model_selection import train_test_split\n",
    "from sklearn.linear_model import LinearRegression\n",
    "from sklearn.metrics import mean_squared_error"
   ]
  },
  {
   "cell_type": "markdown",
   "metadata": {},
   "source": [
    "## 1. Descrição dos dados"
   ]
  },
  {
   "cell_type": "markdown",
   "metadata": {
    "tags": []
   },
   "source": [
    "##### O dataset \"Orange Quality Data.csv\" contém 241 linhas e 11 colunas, e ele foi retirado dos datasets da kaggle. \n",
    "##### As variáveis incluem: \n"
   ]
  },
  {
   "cell_type": "markdown",
   "metadata": {},
   "source": [
    "* **Size (cm):** Diâmetro da laranja em centímetros, representando o tamanho da fruta.\n",
    "* **Weight (g):** Peso da laranja em gramas, indicando a massa da fruta.\n",
    "* **Brix (Sweetness):** Nível de açúcar da laranja, medido pela escala Brix, que indica o grau de doçura.\n",
    "* **pH (Acidity):** Nível de acidez da laranja, medido pelo pH, que indica o sabor azedo da fruta.\n",
    "* **Softness (1-5):** Nível de maciez da laranja em uma escala de 1 a 5, onde 1 indica uma fruta muito dura e 5 indica uma fruta muito macia.\n",
    "* **HarvestTime (days):** Número de dias desde o plantio até a colheita, indicando o tempo de cultivo.\n",
    "* **Ripeness (1-5):** Nível de maturação da laranja em uma escala de 1 a 5, onde 1 indica uma fruta verde e 5 indica uma fruta madura.\n",
    "* **Color:** Cor da casca da laranja, indicando a variedade e o estágio de maturação.\n",
    "* **Variety:** Variedade da laranja, como Valencia, Navel, Cara Cara, etc.\n",
    "* **Blemishes (Y/N):** Indica se a laranja possui manchas ou defeitos visíveis (Sim ou Não).\n",
    "* **Quality (1-5):** Qualidade geral da laranja em uma escala de 1 a 5, avaliando diversos atributos como tamanho, aparência, sabor e textura."
   ]
  },
  {
   "cell_type": "code",
<<<<<<< HEAD
   "execution_count": 3,
   "metadata": {
    "tags": []
   },
   "outputs": [
    {
     "data": {
      "text/html": [
       "<div>\n",
       "<style scoped>\n",
       "    .dataframe tbody tr th:only-of-type {\n",
       "        vertical-align: middle;\n",
       "    }\n",
       "\n",
       "    .dataframe tbody tr th {\n",
       "        vertical-align: top;\n",
       "    }\n",
       "\n",
       "    .dataframe thead th {\n",
       "        text-align: right;\n",
       "    }\n",
       "</style>\n",
       "<table border=\"1\" class=\"dataframe\">\n",
       "  <thead>\n",
       "    <tr style=\"text-align: right;\">\n",
       "      <th></th>\n",
       "      <th>Size (cm)</th>\n",
       "      <th>Weight (g)</th>\n",
       "      <th>Brix (Sweetness)</th>\n",
       "      <th>pH (Acidity)</th>\n",
       "      <th>Softness (1-5)</th>\n",
       "      <th>HarvestTime (days)</th>\n",
       "      <th>Ripeness (1-5)</th>\n",
       "      <th>Color</th>\n",
       "      <th>Variety</th>\n",
       "      <th>Blemishes (Y/N)</th>\n",
       "      <th>Quality (1-5)</th>\n",
       "    </tr>\n",
       "  </thead>\n",
       "  <tbody>\n",
       "    <tr>\n",
       "      <th>0</th>\n",
       "      <td>7.5</td>\n",
       "      <td>180</td>\n",
       "      <td>12.0</td>\n",
       "      <td>3.2</td>\n",
       "      <td>2.0</td>\n",
       "      <td>10</td>\n",
       "      <td>4.0</td>\n",
       "      <td>Orange</td>\n",
       "      <td>Valencia</td>\n",
       "      <td>N</td>\n",
       "      <td>4.0</td>\n",
       "    </tr>\n",
       "    <tr>\n",
       "      <th>1</th>\n",
       "      <td>8.2</td>\n",
       "      <td>220</td>\n",
       "      <td>10.5</td>\n",
       "      <td>3.4</td>\n",
       "      <td>3.0</td>\n",
       "      <td>14</td>\n",
       "      <td>4.5</td>\n",
       "      <td>Deep Orange</td>\n",
       "      <td>Navel</td>\n",
       "      <td>N</td>\n",
       "      <td>4.5</td>\n",
       "    </tr>\n",
       "    <tr>\n",
       "      <th>2</th>\n",
       "      <td>6.8</td>\n",
       "      <td>150</td>\n",
       "      <td>14.0</td>\n",
       "      <td>3.0</td>\n",
       "      <td>1.0</td>\n",
       "      <td>7</td>\n",
       "      <td>5.0</td>\n",
       "      <td>Light Orange</td>\n",
       "      <td>Cara Cara</td>\n",
       "      <td>N</td>\n",
       "      <td>5.0</td>\n",
       "    </tr>\n",
       "    <tr>\n",
       "      <th>3</th>\n",
       "      <td>9.0</td>\n",
       "      <td>250</td>\n",
       "      <td>8.5</td>\n",
       "      <td>3.8</td>\n",
       "      <td>4.0</td>\n",
       "      <td>21</td>\n",
       "      <td>3.5</td>\n",
       "      <td>Orange-Red</td>\n",
       "      <td>Blood Orange</td>\n",
       "      <td>N</td>\n",
       "      <td>3.5</td>\n",
       "    </tr>\n",
       "    <tr>\n",
       "      <th>4</th>\n",
       "      <td>8.5</td>\n",
       "      <td>210</td>\n",
       "      <td>11.5</td>\n",
       "      <td>3.3</td>\n",
       "      <td>2.5</td>\n",
       "      <td>12</td>\n",
       "      <td>5.0</td>\n",
       "      <td>Orange</td>\n",
       "      <td>Hamlin</td>\n",
       "      <td>Y (Minor)</td>\n",
       "      <td>4.5</td>\n",
       "    </tr>\n",
       "    <tr>\n",
       "      <th>5</th>\n",
       "      <td>6.7</td>\n",
       "      <td>126</td>\n",
       "      <td>9.1</td>\n",
       "      <td>3.0</td>\n",
       "      <td>2.0</td>\n",
       "      <td>25</td>\n",
       "      <td>2.0</td>\n",
       "      <td>Orange</td>\n",
       "      <td>Navel</td>\n",
       "      <td>N</td>\n",
       "      <td>1.0</td>\n",
       "    </tr>\n",
       "    <tr>\n",
       "      <th>6</th>\n",
       "      <td>7.2</td>\n",
       "      <td>160</td>\n",
       "      <td>9.0</td>\n",
       "      <td>3.5</td>\n",
       "      <td>3.5</td>\n",
       "      <td>9</td>\n",
       "      <td>4.0</td>\n",
       "      <td>Yellow-Orange</td>\n",
       "      <td>Tangelo (Hybrid)</td>\n",
       "      <td>N</td>\n",
       "      <td>4.0</td>\n",
       "    </tr>\n",
       "    <tr>\n",
       "      <th>7</th>\n",
       "      <td>6.5</td>\n",
       "      <td>130</td>\n",
       "      <td>13.5</td>\n",
       "      <td>2.8</td>\n",
       "      <td>1.5</td>\n",
       "      <td>5</td>\n",
       "      <td>4.5</td>\n",
       "      <td>Light Orange</td>\n",
       "      <td>Murcott (Hybrid)</td>\n",
       "      <td>N</td>\n",
       "      <td>4.5</td>\n",
       "    </tr>\n",
       "    <tr>\n",
       "      <th>8</th>\n",
       "      <td>8.8</td>\n",
       "      <td>240</td>\n",
       "      <td>7.5</td>\n",
       "      <td>4.0</td>\n",
       "      <td>5.0</td>\n",
       "      <td>18</td>\n",
       "      <td>3.0</td>\n",
       "      <td>Deep Orange</td>\n",
       "      <td>Moro (Blood)</td>\n",
       "      <td>Y (Sunburn)</td>\n",
       "      <td>3.0</td>\n",
       "    </tr>\n",
       "    <tr>\n",
       "      <th>9</th>\n",
       "      <td>7.8</td>\n",
       "      <td>190</td>\n",
       "      <td>12.0</td>\n",
       "      <td>3.1</td>\n",
       "      <td>2.0</td>\n",
       "      <td>11</td>\n",
       "      <td>4.5</td>\n",
       "      <td>Orange</td>\n",
       "      <td>Jaffa</td>\n",
       "      <td>N</td>\n",
       "      <td>5.0</td>\n",
       "    </tr>\n",
       "  </tbody>\n",
       "</table>\n",
       "</div>"
      ],
      "text/plain": [
       "   Size (cm)  Weight (g)  Brix (Sweetness)  pH (Acidity)  Softness (1-5)  \\\n",
       "0        7.5         180              12.0           3.2             2.0   \n",
       "1        8.2         220              10.5           3.4             3.0   \n",
       "2        6.8         150              14.0           3.0             1.0   \n",
       "3        9.0         250               8.5           3.8             4.0   \n",
       "4        8.5         210              11.5           3.3             2.5   \n",
       "5        6.7         126               9.1           3.0             2.0   \n",
       "6        7.2         160               9.0           3.5             3.5   \n",
       "7        6.5         130              13.5           2.8             1.5   \n",
       "8        8.8         240               7.5           4.0             5.0   \n",
       "9        7.8         190              12.0           3.1             2.0   \n",
       "\n",
       "   HarvestTime (days)  Ripeness (1-5)          Color           Variety  \\\n",
       "0                  10             4.0         Orange          Valencia   \n",
       "1                  14             4.5    Deep Orange             Navel   \n",
       "2                   7             5.0   Light Orange         Cara Cara   \n",
       "3                  21             3.5     Orange-Red      Blood Orange   \n",
       "4                  12             5.0         Orange            Hamlin   \n",
       "5                  25             2.0         Orange             Navel   \n",
       "6                   9             4.0  Yellow-Orange  Tangelo (Hybrid)   \n",
       "7                   5             4.5   Light Orange  Murcott (Hybrid)   \n",
       "8                  18             3.0    Deep Orange      Moro (Blood)   \n",
       "9                  11             4.5         Orange             Jaffa   \n",
       "\n",
       "  Blemishes (Y/N)  Quality (1-5)  \n",
       "0               N            4.0  \n",
       "1               N            4.5  \n",
       "2               N            5.0  \n",
       "3               N            3.5  \n",
       "4       Y (Minor)            4.5  \n",
       "5               N            1.0  \n",
       "6               N            4.0  \n",
       "7               N            4.5  \n",
       "8     Y (Sunburn)            3.0  \n",
       "9               N            5.0  "
      ]
     },
     "execution_count": 3,
     "metadata": {},
     "output_type": "execute_result"
    }
   ],
=======
   "execution_count": null,
   "metadata": {
    "tags": []
   },
   "outputs": [],
>>>>>>> 990efdfcaa04a8be7628818a3b3ad2d82aba31b1
   "source": [
    "#Caminho e leitura do Dataframe\n",
    "df = pd.read_csv('../data/raw/Orange_Quality_Data.csv')\n",
    "\n",
    "#Análise das 10 primeiras linhas \n",
    "df.head(10)"
   ]
  },
  {
   "cell_type": "code",
   "execution_count": 4,
   "metadata": {
    "tags": []
   },
   "outputs": [
    {
     "name": "stdout",
     "output_type": "stream",
     "text": [
      "================================================== ************** ==================================================\n",
      "Informações gerais do DataFrame\n",
      " \n",
      "<class 'pandas.core.frame.DataFrame'>\n",
      "RangeIndex: 241 entries, 0 to 240\n",
      "Data columns (total 11 columns):\n",
      " #   Column              Non-Null Count  Dtype  \n",
      "---  ------              --------------  -----  \n",
      " 0   Size (cm)           241 non-null    float64\n",
      " 1   Weight (g)          241 non-null    int64  \n",
      " 2   Brix (Sweetness)    241 non-null    float64\n",
      " 3   pH (Acidity)        241 non-null    float64\n",
      " 4   Softness (1-5)      241 non-null    float64\n",
      " 5   HarvestTime (days)  241 non-null    int64  \n",
      " 6   Ripeness (1-5)      241 non-null    float64\n",
      " 7   Color               241 non-null    object \n",
      " 8   Variety             241 non-null    object \n",
      " 9   Blemishes (Y/N)     241 non-null    object \n",
      " 10  Quality (1-5)       241 non-null    float64\n",
      "dtypes: float64(6), int64(2), object(3)\n",
      "memory usage: 20.8+ KB\n",
      " \n",
      "================================================== ************** ==================================================\n",
      "Resumo estatístico\n",
      " \n"
     ]
    },
    {
     "data": {
      "text/html": [
       "<div>\n",
       "<style scoped>\n",
       "    .dataframe tbody tr th:only-of-type {\n",
       "        vertical-align: middle;\n",
       "    }\n",
       "\n",
       "    .dataframe tbody tr th {\n",
       "        vertical-align: top;\n",
       "    }\n",
       "\n",
       "    .dataframe thead th {\n",
       "        text-align: right;\n",
       "    }\n",
       "</style>\n",
       "<table border=\"1\" class=\"dataframe\">\n",
       "  <thead>\n",
       "    <tr style=\"text-align: right;\">\n",
       "      <th></th>\n",
       "      <th>Size (cm)</th>\n",
       "      <th>Weight (g)</th>\n",
       "      <th>Brix (Sweetness)</th>\n",
       "      <th>pH (Acidity)</th>\n",
       "      <th>Softness (1-5)</th>\n",
       "      <th>HarvestTime (days)</th>\n",
       "      <th>Ripeness (1-5)</th>\n",
       "      <th>Quality (1-5)</th>\n",
       "    </tr>\n",
       "  </thead>\n",
       "  <tbody>\n",
       "    <tr>\n",
       "      <th>count</th>\n",
       "      <td>241.000000</td>\n",
       "      <td>241.000000</td>\n",
       "      <td>241.000000</td>\n",
       "      <td>241.000000</td>\n",
       "      <td>241.000000</td>\n",
       "      <td>241.000000</td>\n",
       "      <td>241.000000</td>\n",
       "      <td>241.000000</td>\n",
       "    </tr>\n",
       "    <tr>\n",
       "      <th>mean</th>\n",
       "      <td>7.844813</td>\n",
       "      <td>205.128631</td>\n",
       "      <td>10.907884</td>\n",
       "      <td>3.473900</td>\n",
       "      <td>3.072614</td>\n",
       "      <td>15.344398</td>\n",
       "      <td>3.599585</td>\n",
       "      <td>3.817427</td>\n",
       "    </tr>\n",
       "    <tr>\n",
       "      <th>std</th>\n",
       "      <td>1.086002</td>\n",
       "      <td>56.461012</td>\n",
       "      <td>2.760446</td>\n",
       "      <td>0.421007</td>\n",
       "      <td>1.323630</td>\n",
       "      <td>5.323852</td>\n",
       "      <td>1.205214</td>\n",
       "      <td>1.014410</td>\n",
       "    </tr>\n",
       "    <tr>\n",
       "      <th>min</th>\n",
       "      <td>6.000000</td>\n",
       "      <td>100.000000</td>\n",
       "      <td>5.500000</td>\n",
       "      <td>2.800000</td>\n",
       "      <td>1.000000</td>\n",
       "      <td>4.000000</td>\n",
       "      <td>1.000000</td>\n",
       "      <td>1.000000</td>\n",
       "    </tr>\n",
       "    <tr>\n",
       "      <th>25%</th>\n",
       "      <td>6.900000</td>\n",
       "      <td>155.000000</td>\n",
       "      <td>8.500000</td>\n",
       "      <td>3.200000</td>\n",
       "      <td>2.000000</td>\n",
       "      <td>11.000000</td>\n",
       "      <td>3.000000</td>\n",
       "      <td>3.000000</td>\n",
       "    </tr>\n",
       "    <tr>\n",
       "      <th>50%</th>\n",
       "      <td>7.800000</td>\n",
       "      <td>205.000000</td>\n",
       "      <td>11.000000</td>\n",
       "      <td>3.400000</td>\n",
       "      <td>3.000000</td>\n",
       "      <td>15.000000</td>\n",
       "      <td>4.000000</td>\n",
       "      <td>4.000000</td>\n",
       "    </tr>\n",
       "    <tr>\n",
       "      <th>75%</th>\n",
       "      <td>8.700000</td>\n",
       "      <td>252.000000</td>\n",
       "      <td>13.400000</td>\n",
       "      <td>3.800000</td>\n",
       "      <td>4.000000</td>\n",
       "      <td>20.000000</td>\n",
       "      <td>4.500000</td>\n",
       "      <td>4.500000</td>\n",
       "    </tr>\n",
       "    <tr>\n",
       "      <th>max</th>\n",
       "      <td>10.000000</td>\n",
       "      <td>300.000000</td>\n",
       "      <td>16.000000</td>\n",
       "      <td>4.400000</td>\n",
       "      <td>5.000000</td>\n",
       "      <td>25.000000</td>\n",
       "      <td>5.000000</td>\n",
       "      <td>5.000000</td>\n",
       "    </tr>\n",
       "  </tbody>\n",
       "</table>\n",
       "</div>"
      ],
      "text/plain": [
       "        Size (cm)  Weight (g)  Brix (Sweetness)  pH (Acidity)  Softness (1-5)  \\\n",
       "count  241.000000  241.000000        241.000000    241.000000      241.000000   \n",
       "mean     7.844813  205.128631         10.907884      3.473900        3.072614   \n",
       "std      1.086002   56.461012          2.760446      0.421007        1.323630   \n",
       "min      6.000000  100.000000          5.500000      2.800000        1.000000   \n",
       "25%      6.900000  155.000000          8.500000      3.200000        2.000000   \n",
       "50%      7.800000  205.000000         11.000000      3.400000        3.000000   \n",
       "75%      8.700000  252.000000         13.400000      3.800000        4.000000   \n",
       "max     10.000000  300.000000         16.000000      4.400000        5.000000   \n",
       "\n",
       "       HarvestTime (days)  Ripeness (1-5)  Quality (1-5)  \n",
       "count          241.000000      241.000000     241.000000  \n",
       "mean            15.344398        3.599585       3.817427  \n",
       "std              5.323852        1.205214       1.014410  \n",
       "min              4.000000        1.000000       1.000000  \n",
       "25%             11.000000        3.000000       3.000000  \n",
       "50%             15.000000        4.000000       4.000000  \n",
       "75%             20.000000        4.500000       4.500000  \n",
       "max             25.000000        5.000000       5.000000  "
      ]
     },
     "execution_count": 4,
     "metadata": {},
     "output_type": "execute_result"
    }
   ],
   "source": [
    "def  separador():\n",
    "    print(\"=\" * 50 + \" ************** \" + \"=\" * 50)\n",
    "separador()\n",
    "\n",
    "# Exibindo as informações do DataFrame\n",
    "print(f\"Informações gerais do DataFrame\")\n",
    "print(f\" \")\n",
    "df.info()\n",
    "print(f\" \")\n",
    "\n",
    "separador()\n",
    "print(f\"Resumo estatístico\")\n",
    "print(f\" \")\n",
    "#Resumo estatístico\n",
    "df.describe()"
   ]
  },
  {
   "cell_type": "code",
   "execution_count": 5,
   "metadata": {
    "tags": []
   },
   "outputs": [
    {
     "name": "stdout",
     "output_type": "stream",
     "text": [
      "   Variável ,Tradução ,Descrição ,Espectro de opções,Tipo ,Subtipo ,,           \n",
      "0   Size (cm),Tamanho,Diâmetro da laranja em centí...                           \n",
      "1   Weight (g),Peso,Peso da laranja em gramas,(100...                           \n",
      "2   Brix (Sweetness),Doçura,Nível de açúcar da lar...                           \n",
      "3   pH (Acidity),Acidez,Nível de acidez da laranja...                           \n",
      "4   Softness ,Maciez,Nível de maciez da laranja em...                           \n",
      "5   HarvestTime (days),Tempo de colheita,Número de...                           \n",
      "6   Ripeness ,Maturação,Nível de maturação da lara...                           \n",
      "7   Color,Cor,Cor da casca da laranja,\"Orange, Dee...                           \n",
      "8   Blemishes ,Manchas,Presença de manchas na lara...                           \n",
      "9   Quality ,Qualidade,Qualidade geral da laranja ...                           \n",
      "10  Variety,Variedade,Variedade da laranja,\"Valenc...                           \n"
     ]
    }
   ],
   "source": [
    "# Caminho do dicionário dos dados .csv\n",
    "csv_path = '../data/external/dicionario_de_dados_laranjas.csv'\n",
    "\n",
    "# Leitura do CSV\n",
    "df_dicionario_dados = pd.read_csv(csv_path, sep=';')\n",
    "dicionario = df_dicionario_dados.loc[:, ~df_dicionario_dados.columns.str.contains('^Unnamed')]\n",
    "print(dicionario)"
   ]
  },
  {
   "cell_type": "markdown",
   "metadata": {},
   "source": [
    "## 2. Perguntas de partida e hipóteses"
   ]
  },
  {
   "cell_type": "markdown",
   "metadata": {},
   "source": [
    "## a: Como a maciez das laranjas varia com o tempo de colheita e o estágio de maturação? Laranjas mais maduras são sempre mais macias?"
   ]
  },
  {
   "cell_type": "code",
   "execution_count": null,
   "metadata": {},
   "outputs": [],
<<<<<<< HEAD
   "source": []
=======
   "source": [
    "# Análise Exploratória\n",
    "print(f\"Análise descritiva dos dados:\")\n",
    "print(df[['Softness (1-5)', 'HarvestTime (days)', 'Ripeness (1-5)']].describe())\n",
    "print(' ')\n",
    "\n",
    "# Verificando a correlação entre as variáveis Softness (1-5), HarvestTime (days) e Ripeness (1-5)\n",
    "correlation = df[['Softness (1-5)', 'HarvestTime (days)', 'Ripeness (1-5)']].corr()\n",
    "print(\"Correlação entre as variáveis Softness (1-5), HarvestTime (days) e Ripeness (1-5):\")\n",
    "print(correlation)\n",
    "\n",
    "# Gráfico de Dispersão com Matriz de Cores para Estágio de Maturação (Ripeness (1-5))\n",
    "plt.figure(figsize=(12, 8))\n",
    "sns.scatterplot(data=df, x='HarvestTime (days)', y='Softness (1-5)', hue='Ripeness (1-5)', palette=\"plasma\", s=100, edgecolor=\"w\", alpha=0.7)\n",
    "\n",
    "# Configurações do Gráfico\n",
    "plt.title('Relação entre Tempo de Colheita, Maciez e Maturação das Laranjas')\n",
    "plt.xlabel('Tempo de Colheita (dias)')\n",
    "plt.ylabel('Maciez (1-5)')\n",
    "plt.legend(title='Estágio de Maturação', loc='best')\n",
    "plt.grid(True, linestyle='--', alpha=0.6)\n",
    "\n",
    "# Exibir o gráfico\n",
    "plt.show()"
   ]
>>>>>>> 990efdfcaa04a8be7628818a3b3ad2d82aba31b1
  },
  {
   "cell_type": "markdown",
   "metadata": {},
   "source": [
    "## b: A cor das laranjas está relacionada à sua qualidade? Quais tonalidades são indicativas de maior qualidade?"
   ]
  },
  {
   "cell_type": "code",
   "execution_count": 6,
   "metadata": {},
   "outputs": [
    {
     "name": "stdout",
     "output_type": "stream",
     "text": [
      "Qualidade média por tonalidade de cor:\n",
      "Color\n",
      "Light Orange     3.281250\n",
      "Orange           3.750000\n",
      "Orange-Red       3.754545\n",
      "Yellow-Orange    4.222222\n",
      "Deep Orange      4.306667\n",
      "Name: Quality (1-5), dtype: float64\n"
     ]
    },
    {
     "name": "stderr",
     "output_type": "stream",
     "text": [
      "/tmp/ipykernel_21834/1045420640.py:11: FutureWarning: \n",
      "\n",
      "Passing `palette` without assigning `hue` is deprecated and will be removed in v0.14.0. Assign the `x` variable to `hue` and set `legend=False` for the same effect.\n",
      "\n",
      "  sns.barplot(x=color_quality.index, y=color_quality.values, palette=\"plasma\")\n"
     ]
    },
    {
     "data": {
      "image/png": "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",
      "text/plain": [
       "<Figure size 1200x800 with 1 Axes>"
      ]
     },
     "metadata": {},
     "output_type": "display_data"
    },
    {
     "name": "stdout",
     "output_type": "stream",
     "text": [
      " \n",
      " \n",
      " \n",
      " \n",
      "Correlação entre cor e qualidade: -0.12\n"
     ]
    },
    {
     "data": {
      "image/png": "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",
      "text/plain": [
       "<Figure size 1000x600 with 1 Axes>"
      ]
     },
     "metadata": {},
     "output_type": "display_data"
    },
    {
     "name": "stdout",
     "output_type": "stream",
     "text": [
      "\n",
      "Tabela de Cores e Qualidade:\n",
      "  Original Color  Encoded Color   Quality\n",
      "0    Deep Orange              0  4.306667\n",
      "1   Light Orange              1  3.281250\n",
      "2         Orange              2  3.750000\n",
      "3     Orange-Red              3  3.754545\n",
      "4  Yellow-Orange              4  4.222222\n"
     ]
    },
    {
     "data": {
      "text/plain": [
       "' \\nA correlação calculada é de -0.12.\\nInterpretação dos Resultados\\nQualidade Média: A análise mostra que a tonalidade Deep Orange apresenta a maior qualidade média (4.31), \\nseguida por Yellow-Orange (4.22). Isso indica que as laranjas dessas cores tendem a ser avaliadas como de maior \\nqualidade. Tonalidades Menores: As tonalidades Light Orange, Orange, e Orange-Red têm médias de qualidade inferiores \\n(3.28 a 3.75), sugerindo que essas cores estão associadas a uma qualidade menor em comparação às tonalidades mais escuras.\\nCorrelação Negativa: A correlação de -0.12 indica uma relação fraca e negativa entre a cor das laranjas e sua qualidade.\\nIsso sugere que, embora existam variações na qualidade média entre as diferentes tonalidades, não há uma relação forte que\\nindique que a cor mais intensa sempre resulta em maior qualidade.\\n'"
      ]
     },
     "execution_count": 6,
     "metadata": {},
     "output_type": "execute_result"
    }
   ],
   "source": [
    "# Análise Exploratória da Relação entre Cor e Qualidade\n",
    "# Calculando a média da qualidade para cada tonalidade de cor\n",
    "color_quality = df.groupby('Color')['Quality (1-5)'].mean().sort_values()\n",
    "\n",
    "# Exibindo a tabela de médias de qualidade por cor para melhor visualização \n",
    "print(\"Qualidade média por tonalidade de cor:\")\n",
    "print(color_quality)\n",
    "\n",
    "# Gráfico de Barra Qualidade vs Tonalidade de Cor\n",
    "plt.figure(figsize=(12, 8))\n",
    "sns.barplot(x=color_quality.index, y=color_quality.values, palette=\"plasma\")\n",
    "\n",
    "# Configurações do Gráfico\n",
    "plt.title('Qualidade Média das Laranjas por Tonalidade de Cor')\n",
    "plt.xlabel('Tonalidade de Cor')\n",
    "plt.ylabel('Qualidade Média')\n",
    "plt.xticks(rotation=0)\n",
    "plt.grid(axis='y', linestyle='--', alpha=0.6)\n",
    "\n",
    "# Adicionando os valores em cima das barras\n",
    "for index, value in enumerate(color_quality.values):\n",
    "    plt.text(index, value + 0.05, f\"{value:.2f}\", ha='center', va='bottom', fontsize=10)\n",
    "\n",
    "\n",
    "# Exibir o gráfico\n",
    "plt.show()\n",
    "\n",
    "#Espaçamento para melhor visualização \n",
    "print(' ')\n",
    "print(' ')\n",
    "print(' ')\n",
    "print(' ')\n",
    "\n",
    "# Transformando a coluna 'color' em valores numéricos para utilizar a correlação\n",
    "label_encoder = LabelEncoder()\n",
    "df['color_encoded'] = label_encoder.fit_transform(df['Color'])\n",
    "\n",
    "# Cálculo da correlação entre cor e qualidade\n",
    "correlation = df[['color_encoded', 'Quality (1-5)']].corr().iloc[0, 1]\n",
    "print(f\"Correlação entre cor e qualidade: {correlation:.2f}\")\n",
    "\n",
    "# Gráfico de dispersão\n",
    "plt.figure(figsize=(10, 6))\n",
    "sns.scatterplot(x='color_encoded', y='Quality (1-5)', data=df, palette=\"plasma\", hue='Color', legend=False)\n",
    "\n",
    "# Configurações do gráfico de dispersão\n",
    "plt.title('Correlação entre Cor das Laranjas e Qualidade')\n",
    "plt.xlabel('Cor (Codificada)')\n",
    "plt.ylabel('Qualidade')\n",
    "plt.grid(True, linestyle='--', alpha=0.6)\n",
    "\n",
    "# Exibir o gráfico\n",
    "plt.show()\n",
    "\n",
    "# Exibir cores originais, codificadas e qualidade em tabela para melhor entendimento\n",
    "color_mapping = pd.DataFrame({\n",
    "    'Original Color': label_encoder.classes_,  # Cores originais\n",
    "    'Encoded Color': range(len(label_encoder.classes_)),  # Cores codificadas\n",
    "    'Quality': [df[df['Color'] == color]['Quality (1-5)'].mean() for color in label_encoder.classes_]  # Média da qualidade por cor\n",
    "})\n",
    "\n",
    "print(\"\\nTabela de Cores e Qualidade:\")\n",
    "print(color_mapping)"
   ]
  },
  {
   "cell_type": "markdown",
   "metadata": {},
   "source": [
    "## c: Qual é a influência das manchas na avaliação da qualidade das laranjas?"
   ]
  },
  {
   "cell_type": "code",
   "execution_count": 18,
   "metadata": {},
   "outputs": [
    {
     "data": {
      "image/png": "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",
      "text/plain": [
       "<Figure size 1000x600 with 1 Axes>"
      ]
     },
     "metadata": {},
     "output_type": "display_data"
    }
   ],
   "source": [
<<<<<<< HEAD
    "plt.figure(figsize=(10, 6))\n",
    "sns.set_palette(\"light:white\")\n",
    "sns.boxplot(x='Blemishes (Y/N)', y='Quality (1-5)', data=df)\n",
    "sns.set(font_scale=0.50)\n",
    "plt.title('Qualidade vs. Presença de Manchas')\n",
    "plt.show()"
   ]
  },
  {
   "cell_type": "markdown",
   "metadata": {},
   "source": [
    "* Impacto das manchas na qualidade: É evidente que a presença de manchas, independentemente do tipo, tende a reduzir a qualidade geral das laranjas. As laranjas classificadas como \"N\" (sem manchas) apresentam, em geral, uma qualidade superior quando comparadas às laranjas com qualquer tipo de mancha.\n",
    "\n",
    "* Variabilidade entre os tipos de manchas: Os diferentes tipos de manchas não impactam a qualidade de forma uniforme. Algumas categorias de manchas parecem ter um efeito mais pronunciado na redução da qualidade do que outras. Por exemplo, as laranjas com \"Split Skin\" (pele rachada) apresentam uma qualidade significativamente menor em comparação com a média geral.\n",
    "\n",
    "* Manchas menores: As categorias \"Y (Minor)\" e \"N (Minor)\" indicam a presença de manchas menores. A qualidade dessas laranjas, embora seja menor do que a das laranjas sem manchas, ainda é relativamente alta. Isso sugere que manchas menores podem ter um impacto menos significativo na qualidade geral.\n",
    "\n",
    "* Manchas mais severas: Categorias como \"Y (Split Skin)\" e \"Y (Bruise)\" indicam danos mais severos à casca da laranja. Essas laranjas apresentam uma qualidade significativamente menor, o que indica que danos mais extensos à casca podem comprometer a qualidade interna da fruta.\n",
    "\n",
    "* Outros tipos de manchas: Os outros tipos de manchas (como \"Y (Sunburn)\", \"Y (Mold Spot)\", etc.) também parecem ter um impacto negativo na qualidade, embora em diferentes graus."
=======
    "# Remover linhas onde \"Blemishes (Y/N)\" ou \"Quality (1-5)\" são NaN\n",
    "df_clean = df.dropna(subset=['Blemishes (Y/N)', 'Quality (1-5)'])\n",
    "\n",
    "# Padronizando a coluna 'Blemishes (Y/N)' para conter apenas 'Y' ou 'N' devido a outras informações que contém na resposta\n",
    "df['Blemishes (Y/N)'] = df['Blemishes (Y/N)'].apply(lambda x: 'Y' if 'Y' in str(x) else 'N')\n",
    "\n",
    "# Exibi valores únicos para confirmar a padronização\n",
    "print(\"Valores únicos após padronização:\", df['Blemishes (Y/N)'].unique())\n",
    "\n",
    "# Convertendo 'Blemishes (Y/N)' para valores booleanos\n",
    "df['Blemishes (Y/N)'] = df['Blemishes (Y/N)'].apply(lambda x: True if x == 'Y' else False)\n",
    "\n",
    "# Remover linhas onde \"Blemishes (Y/N)\" ou \"Quality (1-5)\" são NaN\n",
    "df_clean = df.dropna(subset=['Blemishes (Y/N)', 'Quality (1-5)'])\n",
    "# Resumo estatístico da qualidade com e sem manchas\n",
    "quality_with_blemishes = df_clean[df_clean['Blemishes (Y/N)'] == True]['Quality (1-5)']\n",
    "quality_without_blemishes = df_clean[df_clean['Blemishes (Y/N)'] == False]['Quality (1-5)']\n",
    "\n",
    "# Exibindo as médias para comparação com duas casas decimais\n",
    "print(\"Qualidade média das laranjas com manchas:\", round(quality_with_blemishes.mean(), 2))\n",
    "print(\"Qualidade média das laranjas sem manchas:\", round(quality_without_blemishes.mean(), 2))\n",
    "\n",
    "#Visualização\n",
    "plt.figure(figsize=(10, 6))\n",
    "sns.stripplot(data=df_clean, x='Blemishes (Y/N)', y='Quality (1-5)', palette=[\"#FFA07A\", \"#98FB98\"], jitter=True)\n",
    "plt.title(\"Distribuição da Qualidade das Laranjas com e sem Manchas\")\n",
    "plt.xlabel(\"Manchas\")\n",
    "plt.ylabel(\"Qualidade\")\n",
    "plt.show()\n"
>>>>>>> 990efdfcaa04a8be7628818a3b3ad2d82aba31b1
   ]
  },
  {
   "cell_type": "markdown",
   "metadata": {},
   "source": [
    "## d: Como o tempo de colheita afeta as características das laranjas? Existem períodos ideais para a colheita que maximizam a qualidade?"
   ]
  },
  {
   "cell_type": "code",
   "execution_count": 8,
   "metadata": {},
   "outputs": [],
   "source": [
    "# Verificando as primeiras linhas para garantir que harvestTime é numérico\n",
    "df['HarvestTime (days)'] = pd.to_numeric(df['HarvestTime (days)'], errors='coerce')\n",
    "\n",
    "# Agrupando as laranjas por faixas de tempo de colheita (ex: 10 dias)\n",
    "bins = range(df['HarvestTime (days)'].min(), df['HarvestTime (days)'].max() + 10, 10)  # Faixas de 10 dias\n",
    "labels = [f\"{b}-{b+9}\" for b in bins[:-1]]  # Criando rótulos para os bins\n",
    "df['harvestPeriod'] = pd.cut(df['HarvestTime (days)'], bins=bins, labels=labels, right=False)\n",
    "\n",
    "# Calculando a média das variáveis para cada período de colheita\n",
    "agg_df = df.groupby('harvestPeriod').agg({\n",
    "    'Softness (1-5)': 'mean',\n",
    "    'Brix (Sweetness)': 'mean',\n",
    "    'pH (Acidity)': 'mean',\n",
    "    'Quality (1-5)': 'mean'\n",
    "}).reset_index()\n",
    "\n",
    "# Visualizando as médias das variáveis\n",
    "plt.figure(figsize=(12, 8))\n",
    "\n",
    "# Plotando as variáveis\n",
    "sns.lineplot(data=agg_df, x='harvestPeriod', y='Softness (1-5)', label='Maciez')\n",
    "sns.lineplot(data=agg_df, x='harvestPeriod', y='Brix (Sweetness)', label='Doçura')\n",
    "sns.lineplot(data=agg_df, x='harvestPeriod', y='pH (Acidity)', label='Acidez')\n",
    "sns.lineplot(data=agg_df, x='harvestPeriod', y='Quality (1-5)', label='Qualidade')\n",
    "\n",
    "plt.title('Impacto do Tempo de Colheita nas Características das Laranjas')\n",
    "plt.xlabel('Período de Colheita (Dias)')\n",
    "plt.ylabel('Média das Características')\n",
    "plt.legend(title='Características')\n",
    "plt.grid(True)\n",
    "plt.xticks(rotation=45)\n",
    "plt.show()\n",
    "\n",
    "# Identificando o período com melhor qualidade média\n",
    "melhor_periodo = agg_df.loc[agg_df['Quality (1-5)'].idxmax()]\n",
    "print(f\"O período ideal de colheita para maximizar a qualidade das laranjas é o intervalo {melhor_periodo['harvestPeriod']}.\")\n"
   ]
  },
  {
   "cell_type": "markdown",
   "metadata": {},
   "source": [
    "## e: A presença de manchas afeta o pH ou a doçura das laranjas? Isso poderia indicar alguma relação entre defeitos visuais e características internas da fruta."
   ]
  },
  {
   "cell_type": "code",
   "execution_count": 9,
   "metadata": {},
   "outputs": [],
   "source": [
    "# Limpeza da coluna 'Blemishes (Y/N)' para conter apenas 'Y' e 'N'\n",
    "df['Blemishes (Y/N)'] = df['Blemishes (Y/N)'].apply(lambda x: 'Y' if 'Y' in str(x).upper() else 'N')\n",
    "\n",
    "# Contar as ocorrências de 'Y' e 'N' após a limpeza\n",
    "contagem_manchas = df['Blemishes (Y/N)'].value_counts()\n",
    "print(\"Contagem após limpeza:\")\n",
    "print(contagem_manchas)\n",
    "\n",
    "# Separar os dados entre laranjas com e sem manchas\n",
    "laranjas_com_manchas = df[df['Blemishes (Y/N)'] == 'Y']\n",
    "laranjas_sem_manchas = df[df['Blemishes (Y/N)'] == 'N']\n",
    "\n",
    "# Calcular as médias de pH e doçura para cada grupo\n",
    "media_ph_com_manchas = laranjas_com_manchas['pH (Acidity)'].mean()\n",
    "media_ph_sem_manchas = laranjas_sem_manchas['pH (Acidity)'].mean()\n",
    "media_brix_com_manchas = laranjas_com_manchas['Brix (Sweetness)'].mean()\n",
    "media_brix_sem_manchas = laranjas_sem_manchas['Brix (Sweetness)'].mean()\n",
    "\n",
    "# Teste t para verificar a significância das diferenças de pH\n",
    "teste_ph = ttest_ind(laranjas_com_manchas['pH (Acidity)'], laranjas_sem_manchas['pH (Acidity)'])\n",
    "teste_brix = ttest_ind(laranjas_com_manchas['Brix (Sweetness)'], laranjas_sem_manchas['Brix (Sweetness)'])\n",
    "\n",
    "# Exibir os resultados\n",
    "print(\"\\nMédia de pH com manchas:\", media_ph_com_manchas)\n",
    "print(\"Média de pH sem manchas:\", media_ph_sem_manchas)\n",
    "print(\"Resultado do teste t para pH:\", teste_ph)\n",
    "\n",
    "print(\"\\nMédia de Brix com manchas:\", media_brix_com_manchas)\n",
    "print(\"Média de Brix sem manchas:\", media_brix_sem_manchas)\n",
    "print(\"Resultado do teste t para Brix:\", teste_brix)\n",
    "\n",
    "# Conclusão com base no p-valor\n",
    "if teste_ph.pvalue < 0.05:\n",
    "    print(\"\\nDiferença significativa no pH entre laranjas com e sem manchas.\")\n",
    "else:\n",
    "    print(\"\\nNão há diferença significativa no pH entre laranjas com e sem manchas.\")\n",
    "\n",
    "if teste_brix.pvalue < 0.05:\n",
    "    print(\"Diferença significativa na doçura entre laranjas com e sem manchas.\")\n",
    "else:\n",
    "    print(\"Não há diferença significativa na doçura entre laranjas com e sem manchas.\")\n",
    "\n",
    "    # Dados para o gráfico\n",
    "grupos = ['Com Manchas', 'Sem Manchas']\n",
    "ph_means = [media_ph_com_manchas, media_ph_sem_manchas]\n",
    "brix_means = [media_brix_com_manchas, media_brix_sem_manchas]\n",
    "\n",
    "# Criar o gráfico de barras\n",
    "fig, ax = plt.subplots(figsize=(10, 6))\n",
    "bar_width = 0.35\n",
    "index = range(len(grupos))\n",
    "\n",
    "# Plotar as barras de pH e Brix\n",
    "bar1 = ax.bar(index, ph_means, bar_width, label='pH (Acidity)', color='skyblue')\n",
    "bar2 = ax.bar([i + bar_width for i in index], brix_means, bar_width, label='Brix (Sweetness)', color='salmon')\n",
    "\n",
    "# Configurar os rótulos e título\n",
    "ax.set_xlabel('Presença de Manchas')\n",
    "ax.set_ylabel('Média')\n",
    "ax.set_title('Comparação de pH e Doçura entre Laranjas com e sem Manchas')\n",
    "ax.set_xticks([i + bar_width / 2 for i in index])\n",
    "ax.set_xticklabels(grupos)\n",
    "ax.legend()\n",
    "\n",
    "# Adicionar os valores em cima de cada barra\n",
    "for bar in bar1 + bar2:\n",
    "    height = bar.get_height()\n",
    "    ax.annotate(f'{height:.2f}',\n",
    "                xy=(bar.get_x() + bar.get_width() / 2, height),\n",
    "                xytext=(0, 3),  # 3 points de deslocamento\n",
    "                textcoords=\"offset points\",\n",
    "                ha='center', va='bottom')\n",
    "\n",
    "plt.tight_layout()\n",
    "plt.show()"
   ]
  },
  {
   "cell_type": "markdown",
   "metadata": {},
   "source": [
    "## 3. Insights"
   ]
  },
  {
   "cell_type": "code",
   "execution_count": null,
   "metadata": {},
   "outputs": [],
   "source": [
    "'''\n",
    "a) Como a maciez das laranjas varia com o tempo de colheita e o estágio de maturação? Laranjas mais maduras são sempre mais macias?\n",
    "    \n",
    " As laranjas apresentaram uma maciez média de 3.07 em uma escala de 1 a 5, indicando uma maciez moderada. O tempo de colheita varia de \n",
    "4 a 25 dias (média de 15 dias) e mostrou uma correlação fraca, mas positiva (0.331) com a maciez, sugerindo que laranjas colhidas mais \n",
    "tarde tendem a ser um pouco mais macias, embora essa relação não seja forte. Quanto à maturação, com média de 3.6 (em uma escala de 1 a 5),\n",
    "houve uma correlação fraca e negativa (-0.202) com a maciez, sugerindo que, ao contrário do esperado, as laranjas mais maduras não são \n",
    "necessariamente mais macias — na verdade, a maciez pode diminuir levemente conforme a maturação aumenta. Conclui-se que laranjas mais \n",
    "maduras não são sempre mais macias, e que outros fatores, como a variedade e as condições de cultivo, podem influenciar essa característica.  \n",
    "'''"
   ]
  },
  {
   "cell_type": "code",
   "execution_count": null,
   "metadata": {},
   "outputs": [],
   "source": [
    "''' \n",
    "b: A cor das laranjas está relacionada à sua qualidade? Quais tonalidades são indicativas de maior qualidade?\n",
    "\n",
    "A correlação calculada é de -0.12.\n",
    "Interpretação dos Resultados\n",
    "Qualidade Média: A análise mostra que a tonalidade Deep Orange apresenta a maior qualidade média (4.31), \n",
    "seguida por Yellow-Orange (4.22). Isso indica que as laranjas dessas cores tendem a ser avaliadas como de maior \n",
    "qualidade. Tonalidades Menores: As tonalidades Light Orange, Orange, e Orange-Red têm médias de qualidade inferiores \n",
    "(3.28 a 3.75), sugerindo que essas cores estão associadas a uma qualidade menor em comparação às tonalidades mais escuras.\n",
    "Correlação Negativa: A correlação de -0.12 indica uma relação fraca e negativa entre a cor das laranjas e sua qualidade.\n",
    "Isso sugere que, embora existam variações na qualidade média entre as diferentes tonalidades, não há uma relação forte que\n",
    "indique que a cor mais intensa sempre resulta em maior qualidade.\n",
    "'''"
   ]
  },
  {
   "cell_type": "code",
   "execution_count": null,
   "metadata": {},
   "outputs": [],
   "source": [
    "'''\n",
    "c: Qual é a influência das manchas na avaliação da qualidade das laranjas?\n",
    "\n",
    "Se as médias de qualidade das laranjas com manchas forem mais baixas, isso pode indicar que as manchas afetam negativamente a percepção de qualidade, talvez devido a uma associação com defeitos estéticos ou defeitos que afetam o sabor e a textura.\n",
    "Se a distribuição da qualidade das laranjas com manchas for mais dispersa (com mais variação), pode sugerir que enquanto algumas laranjas com manchas podem ainda ter boa qualidade, outras têm qualidade significativamente inferior.\n",
    "Se a média de qualidade das laranjas sem manchas for mais alta, podemos concluir que as manchas provavelmente indicam algum defeito que compromete a qualidade geral do produto.\n",
    "Essas análises podem ser complementadas por métodos estatísticos, como o teste t para comparar as médias e verificar se a diferença é estatisticamente significativa.\n",
    "'''"
   ]
  },
  {
   "cell_type": "code",
   "execution_count": null,
   "metadata": {},
   "outputs": [],
   "source": [
    "'''\n",
    "d: Como o tempo de colheita afeta as características das laranjas? Existem períodos ideais para a colheita que maximizam a qualidade?\n",
    "\n",
    "Maciez (Softness): A maciez das laranjas parece melhorar conforme o tempo de colheita aumenta, subindo de 2.74 para 3.30 e\n",
    "mantendo-se praticamente estável na faixa de 3.27.\n",
    "Doçura (Brix): A doçura diminui ao longo do tempo de colheita, caindo de 11.88 para 10.28 e, por fim, para 9.91.\n",
    "Acidez (pH): A acidez parece se manter relativamente estável, com um leve aumento de 3.37 para 3.54, e então se estabiliza em 3.53.\n",
    "Qualidade (Quality): A qualidade das laranjas segue uma tendência de declínio, começando em 4.31 (ótima qualidade) e caindo para 3.53 e \n",
    "3.00, o que sugere uma perda de qualidade à medida que a colheita avança.\n",
    "'''"
   ]
  },
  {
   "cell_type": "code",
   "execution_count": null,
   "metadata": {},
   "outputs": [],
   "source": [
    "'''\n",
    "e:e: A presença de manchas afeta o pH ou a doçura das laranjas? Isso poderia indicar alguma relação entre defeitos visuais e características internas da fruta.\n",
    "\n",
    "Laranjas com manchas têm um pH médio de 3,63, significativamente maior que o pH de 3,38 das laranjas sem manchas, \n",
    "indicando uma leve diferença de acidez entre elas. Em relação à doçura, medida pelo índice Brix, não houve diferença \n",
    "significativa, com médias de 10,72 para laranjas com manchas e 11,02 para as sem manchas. Assim, enquanto as manchas afetam \n",
    "o pH, elas não influenciam a doçura da fruta.\n",
    "'''"
   ]
  }
 ],
 "metadata": {
  "kernelspec": {
   "display_name": "Python 3",
   "language": "python",
   "name": "python3"
  },
  "language_info": {
   "codemirror_mode": {
    "name": "ipython",
    "version": 3
   },
   "file_extension": ".py",
   "mimetype": "text/x-python",
   "name": "python",
   "nbconvert_exporter": "python",
   "pygments_lexer": "ipython3",
<<<<<<< HEAD
   "version": "3.10.11"
=======
   "version": "3.11.1"
>>>>>>> 990efdfcaa04a8be7628818a3b3ad2d82aba31b1
  }
 },
 "nbformat": 4,
 "nbformat_minor": 4
}
