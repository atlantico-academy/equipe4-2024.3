{
 "cells": [
  {
   "cell_type": "markdown",
   "metadata": {},
   "source": [
    "# Análise exploratória de dados"
   ]
  },
  {
   "cell_type": "code",
   "execution_count": null,
   "metadata": {
    "tags": []
   },
   "outputs": [],
   "source": [
    "### Import de bibliotecas para manipulação dos dados \n",
    "import pandas as pd\n",
    "import numpy as np\n",
    "import math\n",
    "\n",
    "### para visualizacao \n",
    "import seaborn as sns\n",
    "import matplotlib as plt\n",
    "\n",
    "### para obter estatisticas de teste\n",
    "import scipy.stats as stats\n",
    "from scipy.stats import norm\n",
    "from sklearn.preprocessing import LabelEncoder"
   ]
  },
  {
   "cell_type": "markdown",
   "metadata": {},
   "source": [
    "## 1. Descrição dos dados"
   ]
  },
  {
   "cell_type": "markdown",
   "metadata": {
    "tags": []
   },
   "source": [
    "##### O dataset \"Orange Quality Data.csv\" contém 241 linhas e 11 colunas, e ele foi retirado dos datasets da kaggle. \n",
    "##### As variáveis incluem: \n"
   ]
  },
  {
   "cell_type": "markdown",
   "metadata": {},
   "source": [
    "* **Size (cm):** Diâmetro da laranja em centímetros, representando o tamanho da fruta.\n",
    "* **Weight (g):** Peso da laranja em gramas, indicando a massa da fruta.\n",
    "* **Brix (Sweetness):** Nível de açúcar da laranja, medido pela escala Brix, que indica o grau de doçura.\n",
    "* **pH (Acidity):** Nível de acidez da laranja, medido pelo pH, que indica o sabor azedo da fruta.\n",
    "* **Softness (1-5):** Nível de maciez da laranja em uma escala de 1 a 5, onde 1 indica uma fruta muito dura e 5 indica uma fruta muito macia.\n",
    "* **HarvestTime (days):** Número de dias desde o plantio até a colheita, indicando o tempo de cultivo.\n",
    "* **Ripeness (1-5):** Nível de maturação da laranja em uma escala de 1 a 5, onde 1 indica uma fruta verde e 5 indica uma fruta madura.\n",
    "* **Color:** Cor da casca da laranja, indicando a variedade e o estágio de maturação.\n",
    "* **Variety:** Variedade da laranja, como Valencia, Navel, Cara Cara, etc.\n",
    "* **Blemishes (Y/N):** Indica se a laranja possui manchas ou defeitos visíveis (Sim ou Não).\n",
    "* **Quality (1-5):** Qualidade geral da laranja em uma escala de 1 a 5, avaliando diversos atributos como tamanho, aparência, sabor e textura."
   ]
  },
  {
   "cell_type": "code",
   "execution_count": null,
   "metadata": {
    "tags": []
   },
   "outputs": [],
   "source": [
    "#Caminho e leitura do Dataframe\n",
    "df = pd.read_csv('../data/raw/Orange_Quality_Data.csv')\n",
    "\n",
    "#Análise das 10 primeiras linhas \n",
    "df.head(10)"
   ]
  },
  {
   "cell_type": "code",
   "execution_count": null,
   "metadata": {
    "tags": []
   },
   "outputs": [],
   "source": [
    "def  separador():\n",
    "    print(\"=\" * 50 + \" ************** \" + \"=\" * 50)\n",
    "separador()\n",
    "\n",
    "# Exibindo as informações do DataFrame\n",
    "print(f\"Informações gerais do DataFrame\")\n",
    "print(f\" \")\n",
    "df.info()\n",
    "print(f\" \")\n",
    "\n",
    "separador()\n",
    "print(f\"Resumo estatístico\")\n",
    "print(f\" \")\n",
    "#Resumo estatístico\n",
    "df.describe()"
   ]
  },
  {
   "cell_type": "code",
   "execution_count": null,
   "metadata": {
    "tags": []
   },
   "outputs": [],
   "source": [
    "# Caminho do dicionário dos dados .csv\n",
    "csv_path = '../data/external/dicionario_de_dados_laranjas.csv'\n",
    "\n",
    "# Leitura do CSV\n",
    "df_dicionario_dados = pd.read_csv(csv_path, sep=';')\n",
    "dicionario = df_dicionario_dados.loc[:, ~df_dicionario_dados.columns.str.contains('^Unnamed')]\n",
    "print(dicionario)"
   ]
  },
  {
   "cell_type": "markdown",
   "metadata": {},
   "source": [
    "## 2. Perguntas de partida e hipóteses"
   ]
  },
  {
   "cell_type": "markdown",
   "metadata": {},
   "source": [
    "## a: Como a maciez das laranjas varia com o tempo de colheita e o estágio de maturação? Laranjas mais maduras são sempre mais macias?"
   ]
  },
  {
   "cell_type": "code",
   "execution_count": null,
   "metadata": {},
   "outputs": [],
   "source": [
    "# Análise Exploratória\n",
    "print(f\"Análise descritiva dos dados:\")\n",
    "print(df[['Softness (1-5)', 'HarvestTime (days)', 'Ripeness (1-5)']].describe())\n",
    "print(' ')\n",
    "\n",
    "# Verificando a correlação entre as variáveis Softness (1-5), HarvestTime (days) e Ripeness (1-5)\n",
    "correlation = df[['Softness (1-5)', 'HarvestTime (days)', 'Ripeness (1-5)']].corr()\n",
    "print(\"Correlação entre as variáveis Softness (1-5), HarvestTime (days) e Ripeness (1-5):\")\n",
    "print(correlation)\n",
    "\n",
    "# Gráfico de Dispersão com Matriz de Cores para Estágio de Maturação (Ripeness (1-5))\n",
    "plt.figure(figsize=(12, 8))\n",
    "sns.scatterplot(data=df, x='HarvestTime (days)', y='Softness (1-5)', hue='Ripeness (1-5)', palette=\"plasma\", s=100, edgecolor=\"w\", alpha=0.7)\n",
    "\n",
    "# Configurações do Gráfico\n",
    "plt.title('Relação entre Tempo de Colheita, Maciez e Maturação das Laranjas')\n",
    "plt.xlabel('Tempo de Colheita (dias)')\n",
    "plt.ylabel('Maciez (1-5)')\n",
    "plt.legend(title='Estágio de Maturação', loc='best')\n",
    "plt.grid(True, linestyle='--', alpha=0.6)\n",
    "\n",
    "# Exibir o gráfico\n",
    "plt.show()"
   ]
  },
  {
   "cell_type": "markdown",
   "metadata": {},
   "source": [
    "## b: A cor das laranjas está relacionada à sua qualidade? Quais tonalidades são indicativas de maior qualidade?"
   ]
  },
  {
   "cell_type": "code",
   "execution_count": null,
   "metadata": {},
   "outputs": [],
   "source": [
    "# Análise Exploratória da Relação entre Cor e Qualidade\n",
    "# Calculando a média da qualidade para cada tonalidade de cor\n",
    "color_quality = df.groupby('Color')['Quality (1-5)'].mean().sort_values()\n",
    "\n",
    "# Exibindo a tabela de médias de qualidade por cor para melhor visualização \n",
    "print(\"Qualidade média por tonalidade de cor:\")\n",
    "print(color_quality)\n",
    "\n",
    "# Gráfico de Barra Qualidade vs Tonalidade de Cor\n",
    "plt.figure(figsize=(12, 8))\n",
    "sns.barplot(x=color_quality.index, y=color_quality.values, palette=\"plasma\")\n",
    "\n",
    "# Configurações do Gráfico\n",
    "plt.title('Qualidade Média das Laranjas por Tonalidade de Cor')\n",
    "plt.xlabel('Tonalidade de Cor')\n",
    "plt.ylabel('Qualidade Média')\n",
    "plt.xticks(rotation=0)\n",
    "plt.grid(axis='y', linestyle='--', alpha=0.6)\n",
    "\n",
    "# Adicionando os valores em cima das barras\n",
    "for index, value in enumerate(color_quality.values):\n",
    "    plt.text(index, value + 0.05, f\"{value:.2f}\", ha='center', va='bottom', fontsize=10)\n",
    "\n",
    "\n",
    "# Exibir o gráfico\n",
    "plt.show()\n",
    "\n",
    "#Espaçamento para melhor visualização \n",
    "print(' ')\n",
    "print(' ')\n",
    "print(' ')\n",
    "print(' ')\n",
    "\n",
    "# Transformando a coluna 'color' em valores numéricos para utilizar a correlação\n",
    "label_encoder = LabelEncoder()\n",
    "df['color_encoded'] = label_encoder.fit_transform(df['Color'])\n",
    "\n",
    "# Cálculo da correlação entre cor e qualidade\n",
    "correlation = df[['color_encoded', 'Quality (1-5)']].corr().iloc[0, 1]\n",
    "print(f\"Correlação entre cor e qualidade: {correlation:.2f}\")\n",
    "\n",
    "# Gráfico de dispersão\n",
    "plt.figure(figsize=(10, 6))\n",
    "sns.scatterplot(x='color_encoded', y='Quality (1-5)', data=df, palette=\"plasma\", hue='Color', legend=False)\n",
    "\n",
    "# Configurações do gráfico de dispersão\n",
    "plt.title('Correlação entre Cor das Laranjas e Qualidade')\n",
    "plt.xlabel('Cor (Codificada)')\n",
    "plt.ylabel('Qualidade')\n",
    "plt.grid(True, linestyle='--', alpha=0.6)\n",
    "\n",
    "# Exibir o gráfico\n",
    "plt.show()\n",
    "\n",
    "# Exibir cores originais, codificadas e qualidade em tabela para melhor entendimento\n",
    "color_mapping = pd.DataFrame({\n",
    "    'Original Color': label_encoder.classes_,  # Cores originais\n",
    "    'Encoded Color': range(len(label_encoder.classes_)),  # Cores codificadas\n",
    "    'Quality': [df[df['Color'] == color]['Quality (1-5)'].mean() for color in label_encoder.classes_]  # Média da qualidade por cor\n",
    "})\n",
    "\n",
    "print(\"\\nTabela de Cores e Qualidade:\")\n",
    "print(color_mapping)"
   ]
  },
  {
   "cell_type": "markdown",
   "metadata": {},
   "source": [
    "## c: Qual é a influência das manchas na avaliação da qualidade das laranjas?"
   ]
  },
  {
   "cell_type": "code",
   "execution_count": null,
   "metadata": {},
   "outputs": [],
   "source": [
    "# Remover linhas onde \"Blemishes (Y/N)\" ou \"Quality (1-5)\" são NaN\n",
    "df_clean = df.dropna(subset=['Blemishes (Y/N)', 'Quality (1-5)'])\n",
    "\n",
    "# Padronizando a coluna 'Blemishes (Y/N)' para conter apenas 'Y' ou 'N' devido a outras informações que contém na resposta\n",
    "df['Blemishes (Y/N)'] = df['Blemishes (Y/N)'].apply(lambda x: 'Y' if 'Y' in str(x) else 'N')\n",
    "\n",
    "# Exibi valores únicos para confirmar a padronização\n",
    "print(\"Valores únicos após padronização:\", df['Blemishes (Y/N)'].unique())\n",
    "\n",
    "# Convertendo 'Blemishes (Y/N)' para valores booleanos\n",
    "df['Blemishes (Y/N)'] = df['Blemishes (Y/N)'].apply(lambda x: True if x == 'Y' else False)\n",
    "\n",
    "# Remover linhas onde \"Blemishes (Y/N)\" ou \"Quality (1-5)\" são NaN\n",
    "df_clean = df.dropna(subset=['Blemishes (Y/N)', 'Quality (1-5)'])\n",
    "# Resumo estatístico da qualidade com e sem manchas\n",
    "quality_with_blemishes = df_clean[df_clean['Blemishes (Y/N)'] == True]['Quality (1-5)']\n",
    "quality_without_blemishes = df_clean[df_clean['Blemishes (Y/N)'] == False]['Quality (1-5)']\n",
    "\n",
    "# Exibindo as médias para comparação com duas casas decimais\n",
    "print(\"Qualidade média das laranjas com manchas:\", round(quality_with_blemishes.mean(), 2))\n",
    "print(\"Qualidade média das laranjas sem manchas:\", round(quality_without_blemishes.mean(), 2))\n",
    "\n",
    "#Visualização\n",
    "plt.figure(figsize=(10, 6))\n",
    "sns.stripplot(data=df_clean, x='Blemishes (Y/N)', y='Quality (1-5)', palette=[\"#FFA07A\", \"#98FB98\"], jitter=True)\n",
    "plt.title(\"Distribuição da Qualidade das Laranjas com e sem Manchas\")\n",
    "plt.xlabel(\"Manchas\")\n",
    "plt.ylabel(\"Qualidade\")\n",
    "plt.show()\n"
   ]
  },
  {
   "cell_type": "markdown",
   "metadata": {},
   "source": [
    "## d: Como o tempo de colheita afeta as características das laranjas? Existem períodos ideais para a colheita que maximizam a qualidade?"
   ]
  },
  {
   "cell_type": "code",
   "execution_count": null,
   "metadata": {},
   "outputs": [],
   "source": [
    "\n",
    "# gráfico de dispersão tamanho vs colheita\n",
    "plt.figure(figsize=(10,6))\n",
    "plt.scatter(df['HarvestTime (days)'], df['Size (cm)'], alpha=0.6, color='pink')\n",
    "plt.title('Impacto do período de colheita no tamanho da laranja')\n",
    "plt.xlabel('Período de colheita (dias)')\n",
    "plt.ylabel('Tamanho da laranja (cm)')\n",
    "plt.grid(True)\n",
    "plt.show()\n",
    "\n",
    "#gráfico de dispersão entre colheita e peso\n",
    "plt.figure(figsize=(10,6))\n",
    "plt.scatter(df['HarvestTime (days)'], df['Weight (g)'], alpha=0.6, color='orange')\n",
    "plt.title('Relação entre tempo de colheita e peso da laranja')\n",
    "plt.xlabel('Tempo de colheita (dias)')\n",
    "plt.ylabel('Peso da laranja (g)')\n",
    "plt.grid(True)\n",
    "plt.show()\n",
    "\n",
    "\n",
    "# gráfico com a variável 'Brix (Sweetness)' isolada\n",
    "plt.figure(figsize=(10, 6), facecolor='black')  \n",
    "ax1 = plt.gca()  \n",
    "ax1.set_facecolor('black')  \n",
    "\n",
    "# linha de Brix (Sweetness)\n",
    "sns.lineplot(data=df, x='HarvestTime (days)', y='Brix (Sweetness)', label='Doçura (5.5-16.0)', color='yellow', linewidth=2, ci=None)\n",
    "\n",
    "# Adicionando a linha de tendência (regressão linear) em vermelho\n",
    "sns.regplot(data=df, x='HarvestTime (days)', y='Brix (Sweetness)', scatter=False, color='red', line_kws={'linewidth': 2, 'color': 'red', 'linestyle': '--'})\n",
    "\n",
    "# Ajuste de título, rótulos e legenda\n",
    "plt.title('Impacto do tempo de colheita na doçura das laranjas', color='white', fontsize=16)\n",
    "plt.xlabel('Tempo de colheita (dias)', color='white', fontsize=12)\n",
    "plt.ylabel('Doçura (brix)', color='white', fontsize=12)\n",
    "plt.xticks(color='white', rotation=0)\n",
    "plt.yticks(color='white')\n",
    "plt.legend(title='Doçura', title_fontsize=12, facecolor='black', edgecolor='white', labelcolor='white')\n",
    "plt.grid(True, color='gray', linestyle='--', linewidth=0.5)\n",
    "\n",
    "plt.show()\n",
    "\n",
    "# gráfico com as outras variáveis (Softness, pH, Quality)\n",
    "plt.figure(figsize=(10, 6), facecolor='black')  \n",
    "ax2 = plt.gca()  \n",
    "ax2.set_facecolor('black')  \n",
    "\n",
    "sns.lineplot(data=df, x='HarvestTime (days)', y='Softness (1-5)', label='Maciez (1-5)', color='cyan', linewidth=2, ci=None)\n",
    "sns.lineplot(data=df, x='HarvestTime (days)', y='pH (Acidity)', label='Acidez (pH)', color='magenta', linewidth=2, ci=None)\n",
    "sns.lineplot(data=df, x='HarvestTime (days)', y='Quality (1-5)', label='Qualidade (1-5)', color='lime', linewidth=2, ci=None)\n",
    "\n",
    "# Ajuste de título, rótulos e legenda\n",
    "plt.title('Impacto do tempo de colheita nas características das laranjas', color='white', fontsize=16)\n",
    "plt.xlabel('Tempo de colheita (dias)', color='white', fontsize=12)\n",
    "plt.ylabel('Características das laranjas', color='white', fontsize=12)\n",
    "plt.xticks(color='white', rotation=0)\n",
    "plt.yticks(color='white')\n",
    "plt.legend(title='Características', title_fontsize=12, facecolor='black', edgecolor='white', labelcolor='white')\n",
    "\n",
    "# Configurar grade com cor personalizada\n",
    "plt.grid(True, color='gray', linestyle='--', linewidth=0.5)\n",
    "\n",
    "# Exibir gráfico com as outras variáveis\n",
    "plt.show()\n",
    "\n",
    "\n",
    "\n",
    "fig4, (ax4, ax5) = plt.subplots(1, 2, figsize=(14, 5))\n",
    "\n",
    "# Gráfico de dispersão para Doçura (Brix) vs Tempo de Colheita\n",
    "sns.scatterplot(data=df, x='HarvestTime (days)', y='Brix (Sweetness)', ax=ax4, hue='Brix (Sweetness)', palette=\"magma\")\n",
    "ax4.set_title(\"Doçura (Brix) vs Tempo de Colheita\")\n",
    "ax4.set_xlabel(\"Tempo de Colheita (dias)\")\n",
    "ax4.set_ylabel(\"Doçura (Brix)\")\n",
    "\n",
    "# Gráfico de dispersão para pH (Acidez) vs Tempo de Colheita\n",
    "sns.scatterplot(data=df, x='HarvestTime (days)', y='pH (Acidity)', ax=ax5, hue='pH (Acidity)', palette=\"magma\")\n",
    "ax5.set_title(\"pH (Acidez) vs Tempo de Colheita\")\n",
    "ax5.set_xlabel(\"Tempo de Colheita (dias)\")\n",
    "ax5.set_ylabel(\"pH (Acidez)\")\n",
    "\n",
    "plt.tight_layout(pad=3.0)\n",
    "plt.show()\n",
    "'''\n"
   ]
  },
  {
   "cell_type": "markdown",
   "metadata": {},
   "source": [
    "## e: A presença de manchas afeta o pH ou a doçura das laranjas? Isso poderia indicar alguma relação entre defeitos visuais e características internas da fruta."
   ]
  },
  {
   "cell_type": "code",
   "execution_count": null,
   "metadata": {},
   "outputs": [],
   "source": [
    "# Limpeza da coluna 'Blemishes (Y/N)' para conter apenas 'Y' e 'N'\n",
    "df['Blemishes (Y/N)'] = df['Blemishes (Y/N)'].apply(lambda x: 'Y' if 'Y' in str(x).upper() else 'N')\n",
    "\n",
    "# Contar as ocorrências de 'Y' e 'N' após a limpeza\n",
    "contagem_manchas = df['Blemishes (Y/N)'].value_counts()\n",
    "print(\"Contagem após limpeza:\")\n",
    "print(contagem_manchas)\n",
    "\n",
    "# Separar os dados entre laranjas com e sem manchas\n",
    "laranjas_com_manchas = df[df['Blemishes (Y/N)'] == 'Y']\n",
    "laranjas_sem_manchas = df[df['Blemishes (Y/N)'] == 'N']\n",
    "\n",
    "# Calcular as médias de pH e doçura para cada grupo\n",
    "media_ph_com_manchas = laranjas_com_manchas['pH (Acidity)'].mean()\n",
    "media_ph_sem_manchas = laranjas_sem_manchas['pH (Acidity)'].mean()\n",
    "media_brix_com_manchas = laranjas_com_manchas['Brix (Sweetness)'].mean()\n",
    "media_brix_sem_manchas = laranjas_sem_manchas['Brix (Sweetness)'].mean()\n",
    "\n",
    "# Teste t para verificar a significância das diferenças de pH\n",
    "teste_ph = ttest_ind(laranjas_com_manchas['pH (Acidity)'], laranjas_sem_manchas['pH (Acidity)'])\n",
    "teste_brix = ttest_ind(laranjas_com_manchas['Brix (Sweetness)'], laranjas_sem_manchas['Brix (Sweetness)'])\n",
    "\n",
    "# Exibir os resultados\n",
    "print(\"\\nMédia de pH com manchas:\", media_ph_com_manchas)\n",
    "print(\"Média de pH sem manchas:\", media_ph_sem_manchas)\n",
    "print(\"Resultado do teste t para pH:\", teste_ph)\n",
    "\n",
    "print(\"\\nMédia de Brix com manchas:\", media_brix_com_manchas)\n",
    "print(\"Média de Brix sem manchas:\", media_brix_sem_manchas)\n",
    "print(\"Resultado do teste t para Brix:\", teste_brix)\n",
    "\n",
    "# Conclusão com base no p-valor\n",
    "if teste_ph.pvalue < 0.05:\n",
    "    print(\"\\nDiferença significativa no pH entre laranjas com e sem manchas.\")\n",
    "else:\n",
    "    print(\"\\nNão há diferença significativa no pH entre laranjas com e sem manchas.\")\n",
    "\n",
    "if teste_brix.pvalue < 0.05:\n",
    "    print(\"Diferença significativa na doçura entre laranjas com e sem manchas.\")\n",
    "else:\n",
    "    print(\"Não há diferença significativa na doçura entre laranjas com e sem manchas.\")\n",
    "\n",
    "    # Dados para o gráfico\n",
    "grupos = ['Com Manchas', 'Sem Manchas']\n",
    "ph_means = [media_ph_com_manchas, media_ph_sem_manchas]\n",
    "brix_means = [media_brix_com_manchas, media_brix_sem_manchas]\n",
    "\n",
    "# Criar o gráfico de barras\n",
    "fig, ax = plt.subplots(figsize=(10, 6))\n",
    "bar_width = 0.35\n",
    "index = range(len(grupos))\n",
    "\n",
    "# Plotar as barras de pH e Brix\n",
    "bar1 = ax.bar(index, ph_means, bar_width, label='pH (Acidity)', color='skyblue')\n",
    "bar2 = ax.bar([i + bar_width for i in index], brix_means, bar_width, label='Brix (Sweetness)', color='salmon')\n",
    "\n",
    "# Configurar os rótulos e título\n",
    "ax.set_xlabel('Presença de Manchas')\n",
    "ax.set_ylabel('Média')\n",
    "ax.set_title('Comparação de pH e Doçura entre Laranjas com e sem Manchas')\n",
    "ax.set_xticks([i + bar_width / 2 for i in index])\n",
    "ax.set_xticklabels(grupos)\n",
    "ax.legend()\n",
    "\n",
    "# Adicionar os valores em cima de cada barra\n",
    "for bar in bar1 + bar2:\n",
    "    height = bar.get_height()\n",
    "    ax.annotate(f'{height:.2f}',\n",
    "                xy=(bar.get_x() + bar.get_width() / 2, height),\n",
    "                xytext=(0, 3),  # 3 points de deslocamento\n",
    "                textcoords=\"offset points\",\n",
    "                ha='center', va='bottom')\n",
    "\n",
    "plt.tight_layout()\n",
    "plt.show()"
   ]
  },
  {
   "cell_type": "markdown",
   "metadata": {},
   "source": [
    "## 3. Insights"
   ]
  },
  {
   "cell_type": "markdown",
   "metadata": {},
   "source": [
    "## a: Como a maciez das laranjas varia com o tempo de colheita e o estágio de maturação? Laranjas mais maduras são sempre mais macias?"
   ]
  },
  {
   "cell_type": "markdown",
   "metadata": {},
   "source": [
    "As laranjas apresentaram uma maciez média de 3.07 em uma escala de 1 a 5, indicando uma maciez moderada. O tempo de colheita varia de \n",
    "4 a 25 dias (média de 15 dias) e mostrou uma correlação fraca, mas positiva (0.331) com a maciez, sugerindo que laranjas colhidas mais \n",
    "tarde tendem a ser um pouco mais macias, embora essa relação não seja forte. Quanto à maturação, com média de 3.6 (em uma escala de 1 a 5),\n",
    "houve uma correlação fraca e negativa (-0.202) com a maciez, sugerindo que, ao contrário do esperado, as laranjas mais maduras não são \n",
    "necessariamente mais macias — na verdade, a maciez pode diminuir levemente conforme a maturação aumenta. Conclui-se que laranjas mais \n",
    "maduras não são sempre mais macias, e que outros fatores, como a variedade e as condições de cultivo, podem influenciar essa característica. "
   ]
  },
  {
   "cell_type": "markdown",
   "metadata": {},
   "source": [
    "## b: A cor das laranjas está relacionada à sua qualidade? Quais tonalidades são indicativas de maior qualidade?"
   ]
  },
  {
   "cell_type": "markdown",
   "metadata": {},
   "source": [
    "A correlação calculada é de -0.12.\n",
    "Interpretação dos Resultados\n",
    "Qualidade Média: A análise mostra que a tonalidade Deep Orange apresenta a maior qualidade média (4.31), \n",
    "seguida por Yellow-Orange (4.22). Isso indica que as laranjas dessas cores tendem a ser avaliadas como de maior \n",
    "qualidade. Tonalidades Menores: As tonalidades Light Orange, Orange, e Orange-Red têm médias de qualidade inferiores \n",
    "(3.28 a 3.75), sugerindo que essas cores estão associadas a uma qualidade menor em comparação às tonalidades mais escuras.\n",
    "Correlação Negativa: A correlação de -0.12 indica uma relação fraca e negativa entre a cor das laranjas e sua qualidade.\n",
    "Isso sugere que, embora existam variações na qualidade média entre as diferentes tonalidades, não há uma relação forte que\n",
    "indique que a cor mais intensa sempre resulta em maior qualidade."
   ]
  },
  {
   "cell_type": "markdown",
   "metadata": {},
   "source": [
    "## c: Qual é a influência das manchas na avaliação da qualidade das laranjas?"
   ]
  },
  {
   "cell_type": "markdown",
   "metadata": {},
   "source": [
    "Se as médias de qualidade das laranjas com manchas forem mais baixas, isso pode indicar que as manchas afetam negativamente a percepção de qualidade, talvez devido a uma associação com defeitos estéticos ou defeitos que afetam o sabor e a textura.\n",
    "Se a distribuição da qualidade das laranjas com manchas for mais dispersa (com mais variação), pode sugerir que enquanto algumas laranjas com manchas podem ainda ter boa qualidade, outras têm qualidade significativamente inferior.\n",
    "Se a média de qualidade das laranjas sem manchas for mais alta, podemos concluir que as manchas provavelmente indicam algum defeito que compromete a qualidade geral do produto.\n",
    "Essas análises podem ser complementadas por métodos estatísticos, como o teste t para comparar as médias e verificar se a diferença é estatisticamente significativa.\n"
   ]
  },
  {
   "cell_type": "markdown",
   "metadata": {},
   "source": [
    "## Doçura (Brix) vs. Tempo de Colheita:\n",
    "* O gráfico mostra que, conforme o tempo de colheita aumenta, a doçura das laranjas, medida pelo índice Brix, também tende a aumentar. \n",
    "Isso significa que, quanto mais tempo a laranja permanece na árvore, mais doce ela fica, provavelmente por causa do aumento de açúcar à medida que o fruto amadurece.\n",
    "\n",
    "## pH (Acidez) vs. Tempo de Colheita:\n",
    "* O gráfico do pH indica que a acidez das laranjas diminui conforme o tempo de colheita aumenta. \n",
    "Ou seja, quanto mais tempo a laranja fica no pé, menos ácida ela se torna. \n",
    "O aumento do pH sugere que o fruto fica mais suave ao paladar à medida que amadurece.\n",
    "\n",
    "Essencialmente, laranjas colhidas mais tarde tendem a ser mais doces e menos ácidas, o que é um benefício na busca por frutas de melhor qualidade.\n"
   ]
  },
  {
   "cell_type": "markdown",
   "metadata": {},
   "source": [
    "## e: A presença de manchas afeta o pH ou a doçura das laranjas? Isso poderia indicar alguma relação entre defeitos visuais e características internas da fruta.\n"
   ]
  },
  {
   "cell_type": "markdown",
   "metadata": {},
   "source": [
    "Laranjas com manchas têm um pH médio de 3,63, significativamente maior que o pH de 3,38 das laranjas sem manchas, \n",
    "indicando uma leve diferença de acidez entre elas. Em relação à doçura, medida pelo índice Brix, não houve diferença \n",
    "significativa, com médias de 10,72 para laranjas com manchas e 11,02 para as sem manchas. Assim, enquanto as manchas afetam \n",
    "o pH, elas não influenciam a doçura da fruta."
   ]
  }
 ],
 "metadata": {
  "kernelspec": {
   "display_name": "Python 3",
   "language": "python",
   "name": "python3"
  },
  "language_info": {
   "codemirror_mode": {
    "name": "ipython",
    "version": 3
   },
   "file_extension": ".py",
   "mimetype": "text/x-python",
   "name": "python",
   "nbconvert_exporter": "python",
   "pygments_lexer": "ipython3",
   "version": "3.11.1"
  }
 },
 "nbformat": 4,
 "nbformat_minor": 4
}
