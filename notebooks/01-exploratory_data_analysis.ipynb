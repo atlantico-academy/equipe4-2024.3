{
 "cells": [
  {
   "cell_type": "markdown",
   "metadata": {},
   "source": [
    "# Análise exploratória de dados"
   ]
  },
  {
   "cell_type": "code",
   "execution_count": 118,
   "metadata": {
    "tags": []
   },
   "outputs": [
    {
     "ename": "SyntaxError",
     "evalue": "invalid non-printable character U+00A0 (868888386.py, line 15)",
     "output_type": "error",
     "traceback": [
      "\u001b[0;36m  Cell \u001b[0;32mIn[118], line 15\u001b[0;36m\u001b[0m\n\u001b[0;31m    from sklearn.linear_model import LinearRegression\u001b[0m\n\u001b[0m                                                      ^\u001b[0m\n\u001b[0;31mSyntaxError\u001b[0m\u001b[0;31m:\u001b[0m invalid non-printable character U+00A0\n"
     ]
    }
   ],
   "source": [
    "### Import de bibliotecas para manipulação dos dados \n",
    "import pandas as pd\n",
    "import numpy as np\n",
    "import math\n",
    "import matplotlib.pyplot as plt\n",
    "\n",
    "### para visualizacao \n",
    "import seaborn as sns\n",
    "\n",
    "### para obter estatisticas de teste\n",
    "import scipy.stats as stats\n",
    "from scipy.stats import norm\n",
    "from sklearn.preprocessing import LabelEncoder\n",
    "from sklearn.model_selection import train_test_split\n",
    "from sklearn.linear_model import LinearRegression   \n",
    "from sklearn.metrics import mean_squared_error"
   ]
  },
  {
   "cell_type": "markdown",
   "metadata": {},
   "source": [
    "## 1. Descrição dos dados"
   ]
  },
  {
   "cell_type": "markdown",
   "metadata": {
    "tags": []
   },
   "source": [
    "##### O dataset \"Orange Quality Data.csv\" contém 241 linhas e 11 colunas, e ele foi retirado dos datasets da kaggle. \n",
    "##### As variáveis incluem: \n"
   ]
  },
  {
   "cell_type": "markdown",
   "metadata": {},
   "source": [
    "* **Size (cm):** Diâmetro da laranja em centímetros, representando o tamanho da fruta.\n",
    "* **Weight (g):** Peso da laranja em gramas, indicando a massa da fruta.\n",
    "* **Brix (Sweetness):** Nível de açúcar da laranja, medido pela escala Brix, que indica o grau de doçura.\n",
    "* **pH (Acidity):** Nível de acidez da laranja, medido pelo pH, que indica o sabor azedo da fruta.\n",
    "* **Softness (1-5):** Nível de maciez da laranja em uma escala de 1 a 5, onde 1 indica uma fruta muito dura e 5 indica uma fruta muito macia.\n",
    "* **HarvestTime (days):** Número de dias desde o plantio até a colheita, indicando o tempo de cultivo.\n",
    "* **Ripeness (1-5):** Nível de maturação da laranja em uma escala de 1 a 5, onde 1 indica uma fruta verde e 5 indica uma fruta madura.\n",
    "* **Color:** Cor da casca da laranja, indicando a variedade e o estágio de maturação.\n",
    "* **Variety:** Variedade da laranja, como Valencia, Navel, Cara Cara, etc.\n",
    "* **Blemishes (Y/N):** Indica se a laranja possui manchas ou defeitos visíveis (Sim ou Não).\n",
    "* **Quality (1-5):** Qualidade geral da laranja em uma escala de 1 a 5, avaliando diversos atributos como tamanho, aparência, sabor e textura."
   ]
  },
  {
   "cell_type": "code",
   "execution_count": null,
   "metadata": {
    "tags": []
   },
   "outputs": [],
   "source": [
    "#Caminho e leitura do Dataframe\n",
    "df = pd.read_csv('../data/raw/Orange_Quality_Data.csv')\n",
    "\n",
    "#Análise das 10 primeiras linhas \n",
    "df.head(10)"
   ]
  },
  {
   "cell_type": "code",
   "execution_count": 119,
   "metadata": {
    "tags": []
   },
   "outputs": [
    {
     "name": "stdout",
     "output_type": "stream",
     "text": [
      "================================================== ************** ==================================================\n",
      "Informações gerais do DataFrame\n",
      " \n",
      "<class 'pandas.core.frame.DataFrame'>\n",
      "RangeIndex: 241 entries, 0 to 240\n",
      "Data columns (total 12 columns):\n",
      " #   Column              Non-Null Count  Dtype  \n",
      "---  ------              --------------  -----  \n",
      " 0   Size (cm)           241 non-null    float64\n",
      " 1   Weight (g)          241 non-null    int64  \n",
      " 2   Brix (Sweetness)    241 non-null    float64\n",
      " 3   pH (Acidity)        241 non-null    float64\n",
      " 4   Softness (1-5)      241 non-null    float64\n",
      " 5   HarvestTime (days)  241 non-null    int64  \n",
      " 6   Ripeness (1-5)      241 non-null    float64\n",
      " 7   Color               241 non-null    object \n",
      " 8   Variety             241 non-null    object \n",
      " 9   Blemishes (Y/N)     241 non-null    object \n",
      " 10  Quality (1-5)       241 non-null    float64\n",
      " 11  color_encoded       241 non-null    int64  \n",
      "dtypes: float64(6), int64(3), object(3)\n",
      "memory usage: 22.7+ KB\n",
      " \n",
      "================================================== ************** ==================================================\n",
      "Resumo estatístico\n",
      " \n"
     ]
    },
    {
     "data": {
      "text/html": [
       "<div>\n",
       "<style scoped>\n",
       "    .dataframe tbody tr th:only-of-type {\n",
       "        vertical-align: middle;\n",
       "    }\n",
       "\n",
       "    .dataframe tbody tr th {\n",
       "        vertical-align: top;\n",
       "    }\n",
       "\n",
       "    .dataframe thead th {\n",
       "        text-align: right;\n",
       "    }\n",
       "</style>\n",
       "<table border=\"1\" class=\"dataframe\">\n",
       "  <thead>\n",
       "    <tr style=\"text-align: right;\">\n",
       "      <th></th>\n",
       "      <th>Size (cm)</th>\n",
       "      <th>Weight (g)</th>\n",
       "      <th>Brix (Sweetness)</th>\n",
       "      <th>pH (Acidity)</th>\n",
       "      <th>Softness (1-5)</th>\n",
       "      <th>HarvestTime (days)</th>\n",
       "      <th>Ripeness (1-5)</th>\n",
       "      <th>Quality (1-5)</th>\n",
       "      <th>color_encoded</th>\n",
       "    </tr>\n",
       "  </thead>\n",
       "  <tbody>\n",
       "    <tr>\n",
       "      <th>count</th>\n",
       "      <td>241.000000</td>\n",
       "      <td>241.000000</td>\n",
       "      <td>241.000000</td>\n",
       "      <td>241.000000</td>\n",
       "      <td>241.000000</td>\n",
       "      <td>241.000000</td>\n",
       "      <td>241.000000</td>\n",
       "      <td>241.000000</td>\n",
       "      <td>241.000000</td>\n",
       "    </tr>\n",
       "    <tr>\n",
       "      <th>mean</th>\n",
       "      <td>7.844813</td>\n",
       "      <td>205.128631</td>\n",
       "      <td>10.907884</td>\n",
       "      <td>3.473900</td>\n",
       "      <td>3.072614</td>\n",
       "      <td>15.344398</td>\n",
       "      <td>3.599585</td>\n",
       "      <td>3.817427</td>\n",
       "      <td>1.414938</td>\n",
       "    </tr>\n",
       "    <tr>\n",
       "      <th>std</th>\n",
       "      <td>1.086002</td>\n",
       "      <td>56.461012</td>\n",
       "      <td>2.760446</td>\n",
       "      <td>0.421007</td>\n",
       "      <td>1.323630</td>\n",
       "      <td>5.323852</td>\n",
       "      <td>1.205214</td>\n",
       "      <td>1.014410</td>\n",
       "      <td>1.245837</td>\n",
       "    </tr>\n",
       "    <tr>\n",
       "      <th>min</th>\n",
       "      <td>6.000000</td>\n",
       "      <td>100.000000</td>\n",
       "      <td>5.500000</td>\n",
       "      <td>2.800000</td>\n",
       "      <td>1.000000</td>\n",
       "      <td>4.000000</td>\n",
       "      <td>1.000000</td>\n",
       "      <td>1.000000</td>\n",
       "      <td>0.000000</td>\n",
       "    </tr>\n",
       "    <tr>\n",
       "      <th>25%</th>\n",
       "      <td>6.900000</td>\n",
       "      <td>155.000000</td>\n",
       "      <td>8.500000</td>\n",
       "      <td>3.200000</td>\n",
       "      <td>2.000000</td>\n",
       "      <td>11.000000</td>\n",
       "      <td>3.000000</td>\n",
       "      <td>3.000000</td>\n",
       "      <td>0.000000</td>\n",
       "    </tr>\n",
       "    <tr>\n",
       "      <th>50%</th>\n",
       "      <td>7.800000</td>\n",
       "      <td>205.000000</td>\n",
       "      <td>11.000000</td>\n",
       "      <td>3.400000</td>\n",
       "      <td>3.000000</td>\n",
       "      <td>15.000000</td>\n",
       "      <td>4.000000</td>\n",
       "      <td>4.000000</td>\n",
       "      <td>1.000000</td>\n",
       "    </tr>\n",
       "    <tr>\n",
       "      <th>75%</th>\n",
       "      <td>8.700000</td>\n",
       "      <td>252.000000</td>\n",
       "      <td>13.400000</td>\n",
       "      <td>3.800000</td>\n",
       "      <td>4.000000</td>\n",
       "      <td>20.000000</td>\n",
       "      <td>4.500000</td>\n",
       "      <td>4.500000</td>\n",
       "      <td>3.000000</td>\n",
       "    </tr>\n",
       "    <tr>\n",
       "      <th>max</th>\n",
       "      <td>10.000000</td>\n",
       "      <td>300.000000</td>\n",
       "      <td>16.000000</td>\n",
       "      <td>4.400000</td>\n",
       "      <td>5.000000</td>\n",
       "      <td>25.000000</td>\n",
       "      <td>5.000000</td>\n",
       "      <td>5.000000</td>\n",
       "      <td>4.000000</td>\n",
       "    </tr>\n",
       "  </tbody>\n",
       "</table>\n",
       "</div>"
      ],
      "text/plain": [
       "        Size (cm)  Weight (g)  Brix (Sweetness)  pH (Acidity)  Softness (1-5)  \\\n",
       "count  241.000000  241.000000        241.000000    241.000000      241.000000   \n",
       "mean     7.844813  205.128631         10.907884      3.473900        3.072614   \n",
       "std      1.086002   56.461012          2.760446      0.421007        1.323630   \n",
       "min      6.000000  100.000000          5.500000      2.800000        1.000000   \n",
       "25%      6.900000  155.000000          8.500000      3.200000        2.000000   \n",
       "50%      7.800000  205.000000         11.000000      3.400000        3.000000   \n",
       "75%      8.700000  252.000000         13.400000      3.800000        4.000000   \n",
       "max     10.000000  300.000000         16.000000      4.400000        5.000000   \n",
       "\n",
       "       HarvestTime (days)  Ripeness (1-5)  Quality (1-5)  color_encoded  \n",
       "count          241.000000      241.000000     241.000000     241.000000  \n",
       "mean            15.344398        3.599585       3.817427       1.414938  \n",
       "std              5.323852        1.205214       1.014410       1.245837  \n",
       "min              4.000000        1.000000       1.000000       0.000000  \n",
       "25%             11.000000        3.000000       3.000000       0.000000  \n",
       "50%             15.000000        4.000000       4.000000       1.000000  \n",
       "75%             20.000000        4.500000       4.500000       3.000000  \n",
       "max             25.000000        5.000000       5.000000       4.000000  "
      ]
     },
     "execution_count": 119,
     "metadata": {},
     "output_type": "execute_result"
    }
   ],
   "source": [
    "def  separador():\n",
    "    print(\"=\" * 50 + \" ************** \" + \"=\" * 50)\n",
    "separador()\n",
    "\n",
    "# Exibindo as informações do DataFrame\n",
    "print(f\"Informações gerais do DataFrame\")\n",
    "print(f\" \")\n",
    "df.info()\n",
    "print(f\" \")\n",
    "\n",
    "separador()\n",
    "print(f\"Resumo estatístico\")\n",
    "print(f\" \")\n",
    "#Resumo estatístico\n",
    "df.describe()"
   ]
  },
  {
   "cell_type": "code",
   "execution_count": 120,
   "metadata": {
    "tags": []
   },
   "outputs": [
    {
     "name": "stdout",
     "output_type": "stream",
     "text": [
      "   Variável ,Tradução ,Descrição ,Espectro de opções,Tipo ,Subtipo ,,           \n",
      "0   Size (cm),Tamanho,Diâmetro da laranja em centí...                           \n",
      "1   Weight (g),Peso,Peso da laranja em gramas,(100...                           \n",
      "2   Brix (Sweetness),Doçura,Nível de açúcar da lar...                           \n",
      "3   pH (Acidity),Acidez,Nível de acidez da laranja...                           \n",
      "4   Softness ,Maciez,Nível de maciez da laranja em...                           \n",
      "5   HarvestTime (days),Tempo de colheita,Número de...                           \n",
      "6   Ripeness ,Maturação,Nível de maturação da lara...                           \n",
      "7   Color,Cor,Cor da casca da laranja,\"Orange, Dee...                           \n",
      "8   Blemishes ,Manchas,Presença de manchas na lara...                           \n",
      "9   Quality ,Qualidade,Qualidade geral da laranja ...                           \n",
      "10  Variety,Variedade,Variedade da laranja,\"Valenc...                           \n"
     ]
    }
   ],
   "source": [
    "# Caminho do dicionário dos dados .csv\n",
    "csv_path = '../data/external/dicionario_de_dados_laranjas.csv'\n",
    "\n",
    "# Leitura do CSV\n",
    "df_dicionario_dados = pd.read_csv(csv_path, sep=';')\n",
    "dicionario = df_dicionario_dados.loc[:, ~df_dicionario_dados.columns.str.contains('^Unnamed')]\n",
    "print(dicionario)\n",
    "\n",
    "\n"
   ]
  },
  {
   "cell_type": "markdown",
   "metadata": {},
   "source": [
    "## 2. Perguntas de partida e hipóteses"
   ]
  },
  {
   "cell_type": "markdown",
   "metadata": {},
   "source": [
    "## a: Como a maciez das laranjas varia com o tempo de colheita e o estágio de maturação? Laranjas mais maduras são sempre mais macias?"
   ]
  },
  {
   "cell_type": "code",
   "execution_count": null,
   "metadata": {},
   "outputs": [],
   "source": []
  },
  {
   "cell_type": "markdown",
   "metadata": {},
   "source": [
    "## b: A cor das laranjas está relacionada à sua qualidade? Quais tonalidades são indicativas de maior qualidade?"
   ]
  },
  {
   "cell_type": "code",
   "execution_count": 121,
   "metadata": {},
   "outputs": [
    {
     "name": "stdout",
     "output_type": "stream",
     "text": [
      "Qualidade média por tonalidade de cor:\n",
      "Color\n",
      "Light Orange     3.281250\n",
      "Orange           3.750000\n",
      "Orange-Red       3.754545\n",
      "Yellow-Orange    4.222222\n",
      "Deep Orange      4.306667\n",
      "Name: Quality (1-5), dtype: float64\n"
     ]
    },
    {
     "name": "stderr",
     "output_type": "stream",
     "text": [
      "/tmp/ipykernel_13228/1045420640.py:11: FutureWarning: \n",
      "\n",
      "Passing `palette` without assigning `hue` is deprecated and will be removed in v0.14.0. Assign the `x` variable to `hue` and set `legend=False` for the same effect.\n",
      "\n",
      "  sns.barplot(x=color_quality.index, y=color_quality.values, palette=\"plasma\")\n"
     ]
    },
    {
     "data": {
      "image/png": "[encoded data removed]",
      "text/plain": [
       "<Figure size 1200x800 with 1 Axes>"
      ]
     },
     "metadata": {},
     "output_type": "display_data"
    },
    {
     "name": "stdout",
     "output_type": "stream",
     "text": [
      " \n",
      " \n",
      " \n",
      " \n",
      "Correlação entre cor e qualidade: -0.12\n"
     ]
    },
    {
     "data": {
      "image/png": "[encoded data removed]",
      "text/plain": [
       "<Figure size 1000x600 with 1 Axes>"
      ]
     },
     "metadata": {},
     "output_type": "display_data"
    },
    {
     "name": "stdout",
     "output_type": "stream",
     "text": [
      "\n",
      "Tabela de Cores e Qualidade:\n",
      "  Original Color  Encoded Color   Quality\n",
      "0    Deep Orange              0  4.306667\n",
      "1   Light Orange              1  3.281250\n",
      "2         Orange              2  3.750000\n",
      "3     Orange-Red              3  3.754545\n",
      "4  Yellow-Orange              4  4.222222\n"
     ]
    },
    {
     "data": {
      "text/plain": [
       "' \\nA correlação calculada é de -0.12.\\nInterpretação dos Resultados\\nQualidade Média: A análise mostra que a tonalidade Deep Orange apresenta a maior qualidade média (4.31), \\nseguida por Yellow-Orange (4.22). Isso indica que as laranjas dessas cores tendem a ser avaliadas como de maior \\nqualidade. Tonalidades Menores: As tonalidades Light Orange, Orange, e Orange-Red têm médias de qualidade inferiores \\n(3.28 a 3.75), sugerindo que essas cores estão associadas a uma qualidade menor em comparação às tonalidades mais escuras.\\nCorrelação Negativa: A correlação de -0.12 indica uma relação fraca e negativa entre a cor das laranjas e sua qualidade.\\nIsso sugere que, embora existam variações na qualidade média entre as diferentes tonalidades, não há uma relação forte que\\nindique que a cor mais intensa sempre resulta em maior qualidade.\\n'"
      ]
     },
     "execution_count": 121,
     "metadata": {},
     "output_type": "execute_result"
    }
   ],
   "source": [
    "# Análise Exploratória da Relação entre Cor e Qualidade\n",
    "# Calculando a média da qualidade para cada tonalidade de cor\n",
    "color_quality = df.groupby('Color')['Quality (1-5)'].mean().sort_values()\n",
    "\n",
    "# Exibindo a tabela de médias de qualidade por cor para melhor visualização \n",
    "print(\"Qualidade média por tonalidade de cor:\")\n",
    "print(color_quality)\n",
    "\n",
    "# Gráfico de Barra Qualidade vs Tonalidade de Cor\n",
    "plt.figure(figsize=(12, 8))\n",
    "sns.barplot(x=color_quality.index, y=color_quality.values, palette=\"plasma\")\n",
    "\n",
    "# Configurações do Gráfico\n",
    "plt.title('Qualidade Média das Laranjas por Tonalidade de Cor')\n",
    "plt.xlabel('Tonalidade de Cor')\n",
    "plt.ylabel('Qualidade Média')\n",
    "plt.xticks(rotation=0)\n",
    "plt.grid(axis='y', linestyle='--', alpha=0.6)\n",
    "\n",
    "# Adicionando os valores em cima das barras\n",
    "for index, value in enumerate(color_quality.values):\n",
    "    plt.text(index, value + 0.05, f\"{value:.2f}\", ha='center', va='bottom', fontsize=10)\n",
    "\n",
    "\n",
    "# Exibir o gráfico\n",
    "plt.show()\n",
    "\n",
    "#Espaçamento para melhor visualização \n",
    "print(' ')\n",
    "print(' ')\n",
    "print(' ')\n",
    "print(' ')\n",
    "\n",
    "# Transformando a coluna 'color' em valores numéricos para utilizar a correlação\n",
    "label_encoder = LabelEncoder()\n",
    "df['color_encoded'] = label_encoder.fit_transform(df['Color'])\n",
    "\n",
    "# Cálculo da correlação entre cor e qualidade\n",
    "correlation = df[['color_encoded', 'Quality (1-5)']].corr().iloc[0, 1]\n",
    "print(f\"Correlação entre cor e qualidade: {correlation:.2f}\")\n",
    "\n",
    "# Gráfico de dispersão\n",
    "plt.figure(figsize=(10, 6))\n",
    "sns.scatterplot(x='color_encoded', y='Quality (1-5)', data=df, palette=\"plasma\", hue='Color', legend=False)\n",
    "\n",
    "# Configurações do gráfico de dispersão\n",
    "plt.title('Correlação entre Cor das Laranjas e Qualidade')\n",
    "plt.xlabel('Cor (Codificada)')\n",
    "plt.ylabel('Qualidade')\n",
    "plt.grid(True, linestyle='--', alpha=0.6)\n",
    "\n",
    "# Exibir o gráfico\n",
    "plt.show()\n",
    "\n",
    "# Exibir cores originais, codificadas e qualidade em tabela para melhor entendimento\n",
    "color_mapping = pd.DataFrame({\n",
    "    'Original Color': label_encoder.classes_,  # Cores originais\n",
    "    'Encoded Color': range(len(label_encoder.classes_)),  # Cores codificadas\n",
    "    'Quality': [df[df['Color'] == color]['Quality (1-5)'].mean() for color in label_encoder.classes_]  # Média da qualidade por cor\n",
    "})\n",
    "\n",
    "print(\"\\nTabela de Cores e Qualidade:\")\n",
    "print(color_mapping)\n",
    "\n",
    "\n",
    "#Insight\n",
    "''' \n",
    "A correlação calculada é de -0.12.\n",
    "Interpretação dos Resultados\n",
    "Qualidade Média: A análise mostra que a tonalidade Deep Orange apresenta a maior qualidade média (4.31), \n",
    "seguida por Yellow-Orange (4.22). Isso indica que as laranjas dessas cores tendem a ser avaliadas como de maior \n",
    "qualidade. Tonalidades Menores: As tonalidades Light Orange, Orange, e Orange-Red têm médias de qualidade inferiores \n",
    "(3.28 a 3.75), sugerindo que essas cores estão associadas a uma qualidade menor em comparação às tonalidades mais escuras.\n",
    "Correlação Negativa: A correlação de -0.12 indica uma relação fraca e negativa entre a cor das laranjas e sua qualidade.\n",
    "Isso sugere que, embora existam variações na qualidade média entre as diferentes tonalidades, não há uma relação forte que\n",
    "indique que a cor mais intensa sempre resulta em maior qualidade.\n",
    "'''"
   ]
  },
  {
   "cell_type": "markdown",
   "metadata": {},
   "source": [
    "## c: Qual é a influência das manchas na avaliação da qualidade das laranjas?"
   ]
  },
  {
   "cell_type": "code",
   "execution_count": 132,
   "metadata": {},
   "outputs": [
    {
     "data": {
      "image/png": "[encoded data removed]",
      "text/plain": [
       "<Figure size 1000x600 with 1 Axes>"
      ]
     },
     "metadata": {},
     "output_type": "display_data"
    }
   ],
   "source": [
    "plt.figure(figsize=(10, 6))\n",
    "sns.boxplot(x='Blemishes (Y/N)', y='Quality (1-5)', data=df)\n",
    "sns.set(font_scale=0.55)\n",
    "plt.title('Qualidade vs. Presença de Manchas')\n",
    "plt.show()"
   ]
  },
  {
   "cell_type": "markdown",
   "metadata": {},
   "source": [
    "* Impacto das manchas na qualidade: É evidente que a presença de manchas, independentemente do tipo, tende a reduzir a qualidade geral das laranjas. As laranjas classificadas como \"N\" (sem manchas) apresentam, em geral, uma qualidade superior quando comparadas às laranjas com qualquer tipo de mancha.\n",
    "\n",
    "* Variabilidade entre os tipos de manchas: Os diferentes tipos de manchas não impactam a qualidade de forma uniforme. Algumas categorias de manchas parecem ter um efeito mais pronunciado na redução da qualidade do que outras. Por exemplo, as laranjas com \"Split Skin\" (pele rachada) apresentam uma qualidade significativamente menor em comparação com a média geral.\n",
    "\n",
    "* Manchas menores: As categorias \"Y (Minor)\" e \"N (Minor)\" indicam a presença de manchas menores. A qualidade dessas laranjas, embora seja menor do que a das laranjas sem manchas, ainda é relativamente alta. Isso sugere que manchas menores podem ter um impacto menos significativo na qualidade geral.\n",
    "\n",
    "* Manchas mais severas: Categorias como \"Y (Split Skin)\" e \"Y (Bruise)\" indicam danos mais severos à casca da laranja. Essas laranjas apresentam uma qualidade significativamente menor, o que indica que danos mais extensos à casca podem comprometer a qualidade interna da fruta.\n",
    "\n",
    "* Outros tipos de manchas: Os outros tipos de manchas (como \"Y (Sunburn)\", \"Y (Mold Spot)\", etc.) também parecem ter um impacto negativo na qualidade, embora em diferentes graus."
   ]
  },
  {
   "cell_type": "markdown",
   "metadata": {},
   "source": [
    "## d: Como o tempo de colheita afeta as características das laranjas? Existem períodos ideais para a colheita que maximizam a qualidade?"
   ]
  },
  {
   "cell_type": "code",
   "execution_count": 123,
   "metadata": {},
   "outputs": [],
   "source": [
    "#Coloque seu código aqui "
   ]
  },
  {
   "cell_type": "markdown",
   "metadata": {},
   "source": [
    "## e: A presença de manchas afeta o pH ou a doçura das laranjas? Isso poderia indicar alguma relação entre defeitos visuais e características internas da fruta."
   ]
  },
  {
   "cell_type": "code",
   "execution_count": 124,
   "metadata": {},
   "outputs": [],
   "source": [
    "#Coloque seu código aqui "
   ]
  },
  {
   "cell_type": "markdown",
   "metadata": {},
   "source": [
    "## 3. Insights"
   ]
  },
  {
   "cell_type": "code",
   "execution_count": null,
   "metadata": {},
   "outputs": [],
   "source": []
  }
 ],
 "metadata": {
  "kernelspec": {
   "display_name": "Python 3 (ipykernel)",
   "language": "python",
   "name": "python3"
  },
  "language_info": {
   "codemirror_mode": {
    "name": "ipython",
    "version": 3
   },
   "file_extension": ".py",
   "mimetype": "text/x-python",
   "name": "python",
   "nbconvert_exporter": "python",
   "pygments_lexer": "ipython3",
   "version": "3.10.11"
  }
 },
 "nbformat": 4,
 "nbformat_minor": 4
}
